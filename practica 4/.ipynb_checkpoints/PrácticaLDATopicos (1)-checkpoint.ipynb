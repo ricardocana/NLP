{
 "cells": [
  {
   "cell_type": "markdown",
   "metadata": {},
   "source": [
    "## Práctica de spaCy y Modelado de Tópicos con LDA"
   ]
  },
  {
   "cell_type": "markdown",
   "metadata": {},
   "source": [
    "Ricardo Ocaña Martinez "
   ]
  },
  {
   "cell_type": "markdown",
   "metadata": {},
   "source": [
    "Máster Data Science"
   ]
  },
  {
   "cell_type": "markdown",
   "metadata": {},
   "source": [
    "### Carga de librerías necesarias"
   ]
  },
  {
   "cell_type": "markdown",
   "metadata": {},
   "source": [
    "Importamos la librerias que previamente hemos tenido que descargar"
   ]
  },
  {
   "cell_type": "code",
   "execution_count": 73,
   "metadata": {},
   "outputs": [],
   "source": [
    "from nltk.tokenize import RegexpTokenizer\n",
    "from nltk.corpus import PlaintextCorpusReader\n",
    "from stop_words import get_stop_words\n",
    "from nltk.stem.porter import PorterStemmer\n",
    "from gensim import corpora, models\n",
    "import gensim\n",
    "import pyLDAvis.gensim\n",
    "import nltk, re, pprint, spacy\n",
    "import textacy\n",
    "from langdetect import *\n",
    "from nltk.stem import WordNetLemmatizer\n",
    "import pandas as pd"
   ]
  },
  {
   "cell_type": "code",
   "execution_count": 74,
   "metadata": {},
   "outputs": [],
   "source": [
    "import spacy\n",
    "from spacy.lang.es.examples import sentences"
   ]
  },
  {
   "cell_type": "markdown",
   "metadata": {},
   "source": [
    "### Recopilación documentos "
   ]
  },
  {
   "cell_type": "markdown",
   "metadata": {},
   "source": [
    "Cargamos todos los archivos que hemos conseguido de diferentes tópicos: Historia, fútbol, Aceite, Política.."
   ]
  },
  {
   "cell_type": "markdown",
   "metadata": {},
   "source": [
    "Hemos usado en total diez documentos para que así haya variedad de topicas y el análisis sea mas consistente. Todos los documentos se encuentran en castellano."
   ]
  },
  {
   "cell_type": "code",
   "execution_count": 75,
   "metadata": {},
   "outputs": [
    {
     "data": {
      "text/plain": [
       "['Aceite.txt',\n",
       " 'Apple2.txt',\n",
       " 'Borbones.txt',\n",
       " 'Chernobyl.txt',\n",
       " 'Lince.txt',\n",
       " 'Nadal.txt',\n",
       " 'Plantas.txt',\n",
       " 'Robotica.txt',\n",
       " 'SagradaFamilia.txt',\n",
       " 'cine.txt',\n",
       " 'hazard.txt']"
      ]
     },
     "execution_count": 75,
     "metadata": {},
     "output_type": "execute_result"
    }
   ],
   "source": [
    "archivos_lista=[]\n",
    "archivos_dir = \"C:/Users/ricki/OneDrive/Desktop/MDS-CUNEF/TextMining/practica 4/UTF8\"\n",
    "archivos = PlaintextCorpusReader(archivos_dir, '.*')\n",
    "\n",
    "for fileid in archivos.fileids():\n",
    "    archivos_lista.append(archivos.raw(fileids=fileid))\n",
    "archivos.fileids()"
   ]
  },
  {
   "cell_type": "markdown",
   "metadata": {},
   "source": [
    "### Análisis documentos"
   ]
  },
  {
   "cell_type": "markdown",
   "metadata": {},
   "source": [
    "En este apartado vamos a realizar un análisis de Frases, Palabras, POS, Forma Normal y Entidades. Tal y como se nos indica en el enunciado de la práctica."
   ]
  },
  {
   "cell_type": "code",
   "execution_count": 76,
   "metadata": {},
   "outputs": [
    {
     "data": {
      "text/plain": [
       "\"Eden Hazard aterrizará con su nave galáctica el próximo jueves en el Santiago Bernabéu. Los focos alumbrarán a un fichaje que ya ilusiona a todo el madridismo -se espera una gran afluencia de público en las gradas madridistas ese día-. El belga ya está aquí. Pero, pero... su fichaje no hubiera sido posible sin un trabajo minucioso del club, una labor a largo plazo que empezó allá por principios de 2017, cuando el belga empezó a sonar fuerte por el club blanco y cumplía su quinta temporada con el Chelsea.\\r\\nPor entonces, MARCA puso en la pista de este fichaje: 'Cerco del Madrid a Hazard', publicábamos, en una información en la que detallábamos que Juni Calafat, responsable de fútbol internacional del club y mano derecha de José Ángel Sánchez, fue ya a vigilar al jugador a Londres.Y es que el fichaje de Hazard ha sido una obra de ingeniería... a largo plazo, desde esos inicios de 2017. Un plan ideado por Sánchez con casi tres años de conversaciones -siempre informales, legales, pero con intención- en las que se ha hablado mucho con el entorno personal del jugador. Calafat se encargaba de ello y Zidane, con conversaciones públicas y privadas, empujaba mucho... con el objetivo de poder fichar algún día a un futbolista que quería vestirse de blanco, pero que tenía muchas otras novias contra las que ha tenido que luchar la secretaría técnica del Madrid.\\r\\nEsas visitas de incógnito del citado Juni Calafat a Londres tenían el objetivo de fidelizar al futbolista y a todo su entorno más cercano.\""
      ]
     },
     "execution_count": 76,
     "metadata": {},
     "output_type": "execute_result"
    }
   ],
   "source": [
    "documento = archivos.raw(fileids=\"hazard.txt\")\n",
    "documento"
   ]
  },
  {
   "cell_type": "code",
   "execution_count": 77,
   "metadata": {},
   "outputs": [
    {
     "name": "stderr",
     "output_type": "stream",
     "text": [
      "<input>:4: DeprecationWarning: invalid escape sequence \\F\n",
      "<input>:4: DeprecationWarning: invalid escape sequence \\F\n",
      "<input>:4: DeprecationWarning: invalid escape sequence \\F\n",
      "<ipython-input-77-742bfb4a5e78>:4: DeprecationWarning: invalid escape sequence \\F\n",
      "  print(\"\\Frases\")\n"
     ]
    },
    {
     "name": "stdout",
     "output_type": "stream",
     "text": [
      "\\Frases\n",
      "Eden Hazard aterrizará con su nave galáctica el próximo jueves en el Santiago Bernabéu.\n",
      "Los focos alumbrarán a un fichaje que ya ilusiona a todo el madridismo -se espera una gran afluencia de público en las gradas madridistas ese día-.\n",
      "El belga ya está aquí.\n",
      "Pero, pero... su fichaje no hubiera sido posible sin un trabajo minucioso del club, una labor a largo plazo que empezó allá por principios de 2017, cuando el belga empezó a sonar fuerte por el club blanco y cumplía su quinta temporada con el Chelsea.\n",
      "\n",
      "Por entonces, MARCA puso en la pista de este fichaje: 'Cerco del Madrid a Hazard', publicábamos, en una información en la que detallábamos que Juni Calafat, responsable de fútbol internacional del club y mano derecha de José Ángel Sánchez, fue ya a vigilar al jugador a Londres.\n",
      "Y es que el fichaje de Hazard ha sido una obra de ingeniería...\n",
      "a largo plazo, desde esos inicios de 2017.\n",
      "Un plan ideado por Sánchez con casi tres años de conversaciones -siempre informales, legales, pero con intención- en las que se ha hablado mucho con el entorno personal del jugador.\n",
      "Calafat se encargaba de ello y Zidane, con conversaciones públicas y privadas, empujaba mucho... con el objetivo de poder fichar algún día a un futbolista que quería vestirse de blanco, pero que tenía muchas otras novias contra las que ha tenido que luchar la secretaría técnica del Madrid.\n",
      "\n",
      "Esas visitas de incógnito del citado Juni Calafat a Londres tenían el objetivo de fidelizar al futbolista y a todo su entorno más cercano.\n",
      "\n",
      "Tokens\n",
      "Eden Eden PROPN PROPN___ nsubj\n",
      "Hazard Hazard PROPN PROPN___ flat\n",
      "aterrizará aterrizar VERB VERB__Mood=Ind|Number=Sing|Person=3|Tense=Fut|VerbForm=Fin ROOT\n",
      "con con ADP ADP__AdpType=Prep case\n",
      "su su DET DET__Number=Sing|Person=3|Poss=Yes|PronType=Prs det\n",
      "nave nave NOUN NOUN__Gender=Fem|Number=Sing obl\n",
      "galáctica galáctico ADJ ADJ__Gender=Fem|Number=Sing amod\n",
      "el el DET DET__Definite=Def|Gender=Masc|Number=Sing|PronType=Art det\n",
      "próximo próximo ADJ ADJ__Gender=Masc|Number=Sing amod\n",
      "jueves jueves NOUN NOUN__AdvType=Tim obl\n",
      "en en ADP ADP__AdpType=Prep case\n",
      "el el DET DET__Definite=Def|Gender=Masc|Number=Sing|PronType=Art det\n",
      "Santiago Santiago PROPN PROPN___ obl\n",
      "Bernabéu Bernabéu PROPN PROPN___ flat\n",
      ". . PUNCT PUNCT__PunctType=Peri punct\n",
      "Los Los DET DET__Definite=Def|Gender=Masc|Number=Plur|PronType=Art det\n",
      "focos foco NOUN NOUN__Gender=Masc|Number=Plur nsubj\n",
      "alumbrarán alumbrar VERB VERB__Mood=Ind|Number=Plur|Person=3|Tense=Fut|VerbForm=Fin ROOT\n",
      "a a ADP ADP__AdpType=Prep case\n",
      "un uno DET DET__Definite=Ind|Gender=Masc|Number=Sing|PronType=Art det\n",
      "fichaje fichaje NOUN NOUN__Gender=Masc|Number=Sing obj\n",
      "que que PRON PRON__PronType=Rel nsubj\n",
      "ya ya ADV ADV___ advmod\n",
      "ilusiona ilusionar VERB VERB__Mood=Ind|Number=Sing|Person=3|Tense=Pres|VerbForm=Fin acl\n",
      "a a ADP ADP__AdpType=Prep case\n",
      "todo todo DET DET__Gender=Masc|Number=Sing|PronType=Ind det\n",
      "el el DET DET__Definite=Def|Gender=Masc|Number=Sing|PronType=Art det\n",
      "madridismo madridismo NOUN NOUN___ obj\n",
      "-se -se PROPN PROPN___ punct\n",
      "espera esperar VERB VERB__Mood=Ind|Number=Sing|Person=3|Tense=Pres|VerbForm=Fin advcl\n",
      "una uno DET DET__Definite=Ind|Gender=Fem|Number=Sing|PronType=Art det\n",
      "gran gran ADJ ADJ__Number=Sing amod\n",
      "afluencia afluencia NOUN NOUN__Gender=Fem|Number=Sing obj\n",
      "de de ADP ADP__AdpType=Prep case\n",
      "público público NOUN NOUN__Gender=Masc|Number=Sing nmod\n",
      "en en ADP ADP__AdpType=Prep case\n",
      "las los DET DET__Definite=Def|Gender=Fem|Number=Plur|PronType=Art det\n",
      "gradas gradar NOUN NOUN__Gender=Fem|Number=Plur amod\n",
      "madridistas madridista ADJ ADJ__Number=Plur obl\n",
      "ese ese DET DET__Gender=Masc|Number=Sing|PronType=Dem det\n",
      "día- día- NOUN NOUN__Gender=Masc|Number=Sing obj\n",
      ". . PUNCT PUNCT__PunctType=Peri punct\n",
      "El El DET DET__Definite=Def|Gender=Masc|Number=Sing|PronType=Art det\n",
      "belga belga NOUN NOUN__Number=Sing nsubj\n",
      "ya ya ADV ADV___ advmod\n",
      "está estar VERB VERB__Mood=Ind|Number=Sing|Person=3|Tense=Pres|VerbForm=Fin cop\n",
      "aquí aquí ADV ADV___ ROOT\n",
      ". . PUNCT PUNCT__PunctType=Peri punct\n",
      "Pero Pero CONJ CCONJ___ advmod\n",
      ", , PUNCT PUNCT__PunctType=Comm punct\n",
      "pero pero CONJ CCONJ___ cc\n",
      "... ... PUNCT PUNCT__PunctType=Comm punct\n",
      "su su DET DET__Number=Sing|Person=3|Poss=Yes|PronType=Prs det\n",
      "fichaje fichaje NOUN NOUN__Gender=Masc|Number=Sing nsubj\n",
      "no no ADV ADV__Polarity=Neg advmod\n",
      "hubiera haber AUX AUX__Mood=Sub|Number=Sing|Person=3|Tense=Imp|VerbForm=Fin aux\n",
      "sido ser AUX AUX__Gender=Masc|Number=Sing|Tense=Past|VerbForm=Part cop\n",
      "posible posible ADJ ADJ__Number=Sing ROOT\n",
      "sin sin ADP ADP__AdpType=Prep case\n",
      "un uno DET DET__Definite=Ind|Gender=Masc|Number=Sing|PronType=Art det\n",
      "trabajo trabajar NOUN NOUN__Gender=Masc|Number=Sing obl\n",
      "minucioso minucioso ADJ ADJ__Gender=Masc|Number=Sing amod\n",
      "del del ADP ADP__AdpType=Preppron|Gender=Masc|Number=Sing case\n",
      "club club NOUN NOUN__Gender=Masc|Number=Sing nmod\n",
      ", , PUNCT PUNCT__PunctType=Comm punct\n",
      "una uno DET DET__Definite=Ind|Gender=Fem|Number=Sing|PronType=Art det\n",
      "labor labor NOUN NOUN__Gender=Fem|Number=Sing appos\n",
      "a a ADP ADP__AdpType=Prep case\n",
      "largo largar ADJ ADJ__Gender=Masc|Number=Sing amod\n",
      "plazo plazo NOUN NOUN__Gender=Masc|Number=Sing nmod\n",
      "que que PRON PRON__PronType=Rel nsubj\n",
      "empezó empezar VERB VERB__Mood=Ind|Number=Sing|Person=3|Tense=Past|VerbForm=Fin acl\n",
      "allá allá ADV ADV___ advmod\n",
      "por por ADP ADP__AdpType=Prep case\n",
      "principios principio NOUN NOUN___ fixed\n",
      "de de ADP ADP__AdpType=Prep fixed\n",
      "2017 2017 NOUN NOUN__AdvType=Tim obl\n",
      ", , PUNCT PUNCT__PunctType=Comm punct\n",
      "cuando cuando PRON PRON__PronType=Rel obl\n",
      "el el DET DET__Definite=Def|Gender=Masc|Number=Sing|PronType=Art det\n",
      "belga belga NOUN NOUN__Number=Sing nsubj\n",
      "empezó empezar AUX AUX__Mood=Ind|Number=Sing|Person=3|Tense=Past|VerbForm=Fin aux\n",
      "a a ADP ADP__AdpType=Prep mark\n",
      "sonar sonar VERB VERB__VerbForm=Inf advcl\n",
      "fuerte fuerte ADJ ADJ__Number=Sing obj\n",
      "por por ADP ADP__AdpType=Prep case\n",
      "el el DET DET__Definite=Def|Gender=Masc|Number=Sing|PronType=Art det\n",
      "club club NOUN NOUN__Gender=Masc|Number=Sing obj\n",
      "blanco blanco ADJ ADJ__Gender=Masc|Number=Sing amod\n",
      "y y CONJ CCONJ___ cc\n",
      "cumplía cumplir VERB VERB__Mood=Ind|Number=Sing|Person=3|Tense=Imp|VerbForm=Fin conj\n",
      "su su DET DET__Number=Sing|Person=3|Poss=Yes|PronType=Prs det\n",
      "quinta quinto ADJ ADJ__Gender=Fem|Number=Sing|NumType=Ord amod\n",
      "temporada temporada NOUN NOUN__Gender=Fem|Number=Sing obj\n",
      "con con ADP ADP__AdpType=Prep case\n",
      "el el DET DET__Definite=Def|Gender=Masc|Number=Sing|PronType=Art det\n",
      "Chelsea Chelsea PROPN PROPN___ obl\n",
      ". . PUNCT PUNCT__PunctType=Peri punct\n",
      "\n",
      " \n",
      " SPACE _SP \n",
      "Por Por ADP ADP__AdpType=Prep case\n",
      "entonces entonces ADV ADV___ advmod\n",
      ", , PUNCT PUNCT__PunctType=Comm punct\n",
      "MARCA MARCA PROPN PROPN___ nsubj\n",
      "puso poner VERB VERB__Mood=Ind|Number=Sing|Person=3|Tense=Past|VerbForm=Fin ROOT\n",
      "en en ADP ADP__AdpType=Prep case\n",
      "la lo DET DET__Definite=Def|Gender=Fem|Number=Sing|PronType=Art det\n",
      "pista pistar NOUN NOUN__Gender=Fem|Number=Sing obl\n",
      "de de ADP ADP__AdpType=Prep case\n",
      "este este DET DET__Gender=Masc|Number=Sing|PronType=Dem det\n",
      "fichaje fichaje NOUN NOUN__Gender=Masc|Number=Sing nmod\n",
      ": : PUNCT PUNCT__PunctType=Colo punct\n",
      "' ' SYM SYM___ nmod\n",
      "Cerco Cerco PROPN PROPN___ appos\n",
      "del del ADP ADP__AdpType=Preppron|Gender=Masc|Number=Sing case\n",
      "Madrid Madrid PROPN PROPN___ flat\n",
      "a a ADP ADP__AdpType=Prep case\n",
      "Hazard Hazard PROPN PROPN___ nmod\n",
      "' ' SYM SYM___ nmod\n",
      ", , PUNCT PUNCT__PunctType=Comm punct\n",
      "publicábamos publicar ADJ ADJ__Gender=Masc|Number=Plur conj\n",
      ", , PUNCT PUNCT__PunctType=Comm punct\n",
      "en en ADP ADP__AdpType=Prep case\n",
      "una uno DET DET__Definite=Ind|Gender=Fem|Number=Sing|PronType=Art det\n",
      "información información NOUN NOUN__Gender=Fem|Number=Sing obl\n",
      "en en ADP ADP__AdpType=Prep case\n",
      "la lo DET DET__Definite=Def|Gender=Fem|Number=Sing|PronType=Art det\n",
      "que que PRON PRON__PronType=Rel obl\n",
      "detallábamos detallar VERB VERB__Mood=Ind|Number=Plur|Person=1|Tense=Pres|VerbForm=Fin acl\n",
      "que que SCONJ SCONJ___ mark\n",
      "Juni Juni PROPN PROPN___ nsubj\n",
      "Calafat Calafat PROPN PROPN___ flat\n",
      ", , PUNCT PUNCT__PunctType=Comm punct\n",
      "responsable responsable NOUN NOUN__Number=Sing appos\n",
      "de de ADP ADP__AdpType=Prep case\n",
      "fútbol fútbol NOUN NOUN__Gender=Masc|Number=Sing nmod\n",
      "internacional internacional ADJ ADJ__Number=Sing amod\n",
      "del del ADP ADP__AdpType=Preppron|Gender=Masc|Number=Sing case\n",
      "club club NOUN NOUN__Gender=Masc|Number=Sing nmod\n",
      "y y CONJ CCONJ___ cc\n",
      "mano manir NOUN NOUN__Gender=Fem|Number=Sing conj\n",
      "derecha derecho ADJ ADJ__Gender=Fem|Number=Sing amod\n",
      "de de ADP ADP__AdpType=Prep case\n",
      "José José PROPN PROPN___ nmod\n",
      "Ángel Ángel PROPN PROPN___ flat\n",
      "Sánchez Sánchez PROPN PROPN___ flat\n",
      ", , PUNCT PUNCT__PunctType=Comm punct\n",
      "fue ser AUX AUX__Mood=Ind|Number=Sing|Person=3|Tense=Past|VerbForm=Fin aux\n",
      "ya ya ADV ADV___ advmod\n",
      "a a ADP ADP__AdpType=Prep mark\n",
      "vigilar vigilar VERB VERB__VerbForm=Inf xcomp\n",
      "al al ADP ADP__AdpType=Preppron|Gender=Masc|Number=Sing case\n",
      "jugador jugador NOUN NOUN__Gender=Masc|Number=Sing obj\n",
      "a a ADP ADP__AdpType=Prep case\n",
      "Londres Londres PROPN PROPN___ obl\n",
      ". . PUNCT PUNCT__PunctType=Peri punct\n",
      "Y Y CONJ CCONJ___ advmod\n",
      "es ser AUX AUX__Mood=Ind|Number=Sing|Person=3|Tense=Pres|VerbForm=Fin ROOT\n",
      "que que SCONJ SCONJ___ mark\n",
      "el el DET DET__Definite=Def|Gender=Masc|Number=Sing|PronType=Art det\n",
      "fichaje fichaje NOUN NOUN__Gender=Masc|Number=Sing nsubj\n",
      "de de ADP ADP__AdpType=Prep case\n",
      "Hazard Hazard PROPN PROPN___ nmod\n",
      "ha haber AUX AUX__Mood=Ind|Number=Sing|Person=3|Tense=Pres|VerbForm=Fin aux\n",
      "sido ser AUX AUX__Gender=Masc|Number=Sing|Tense=Past|VerbForm=Part cop\n",
      "una uno DET DET__Definite=Ind|Gender=Fem|Number=Sing|PronType=Art det\n",
      "obra obrar NOUN NOUN__Gender=Fem|Number=Sing ccomp\n",
      "de de ADP ADP__AdpType=Prep case\n",
      "ingeniería ingeniería NOUN NOUN__Gender=Fem|Number=Sing nmod\n",
      "... ... PUNCT PUNCT__PunctType=Comm punct\n",
      "a a ADP ADP__AdpType=Prep case\n",
      "largo largar ADJ ADJ__Gender=Masc|Number=Sing amod\n",
      "plazo plazo NOUN NOUN___ ROOT\n",
      ", , PUNCT PUNCT__PunctType=Comm punct\n",
      "desde desde ADP ADP__AdpType=Prep case\n",
      "esos ese DET DET__Gender=Masc|Number=Plur|PronType=Dem det\n",
      "inicios inicio NOUN NOUN__Gender=Masc|Number=Plur nmod\n",
      "de de ADP ADP__AdpType=Prep case\n",
      "2017 2017 NOUN NOUN__AdvType=Tim nmod\n",
      ". . PUNCT PUNCT__PunctType=Peri punct\n",
      "Un Un DET DET__Definite=Ind|Gender=Masc|Number=Sing|PronType=Art det\n",
      "plan plan NOUN NOUN__Gender=Masc|Number=Sing ROOT\n",
      "ideado idear ADJ ADJ__Gender=Masc|Number=Sing|VerbForm=Part amod\n",
      "por por ADP ADP__AdpType=Prep case\n",
      "Sánchez Sánchez PROPN PROPN___ obj\n",
      "con con ADP ADP__AdpType=Prep case\n",
      "casi casi ADV ADV___ advmod\n",
      "tres tres NUM NUM__Number=Plur|NumType=Card nummod\n",
      "años año NOUN NOUN__Gender=Masc|Number=Plur obl\n",
      "de de ADP ADP__AdpType=Prep case\n",
      "conversaciones conversación NOUN NOUN__Gender=Fem|Number=Plur nmod\n",
      "-siempre -siempre ADV ADV___ amod\n",
      "informales informal ADJ ADJ__Number=Plur amod\n",
      ", , PUNCT PUNCT__PunctType=Comm punct\n",
      "legales legal ADJ ADJ__Number=Plur conj\n",
      ", , PUNCT PUNCT__PunctType=Comm punct\n",
      "pero pero CONJ CCONJ___ cc\n",
      "con con ADP ADP__AdpType=Prep case\n",
      "intención- intención- NOUN NOUN__Gender=Masc|Number=Sing conj\n",
      "en en ADP ADP__AdpType=Prep case\n",
      "las los DET DET__Definite=Def|Gender=Fem|Number=Plur|PronType=Art det\n",
      "que que PRON PRON__PronType=Rel obl\n",
      "se se PRON PRON__Person=3 obj\n",
      "ha haber AUX AUX__Mood=Ind|Number=Sing|Person=3|Tense=Pres|VerbForm=Fin aux\n",
      "hablado hablar VERB VERB__Gender=Masc|Number=Sing|Tense=Past|VerbForm=Part acl\n",
      "mucho mucho ADV ADV___ advmod\n",
      "con con ADP ADP__AdpType=Prep case\n",
      "el el DET DET__Definite=Def|Gender=Masc|Number=Sing|PronType=Art det\n",
      "entorno entornar NOUN NOUN__Gender=Masc|Number=Sing obl\n",
      "personal personal ADJ ADJ__Number=Sing amod\n",
      "del del ADP ADP__AdpType=Preppron|Gender=Masc|Number=Sing case\n",
      "jugador jugador NOUN NOUN__Gender=Masc|Number=Sing nmod\n",
      ". . PUNCT PUNCT__PunctType=Peri punct\n",
      "Calafat Calafat PROPN PROPN___ nsubj\n",
      "se se PRON PRON__Person=3 obj\n",
      "encargaba encargar VERB VERB__Mood=Ind|Number=Sing|Person=3|Tense=Imp|VerbForm=Fin ROOT\n",
      "de de ADP ADP__AdpType=Prep case\n",
      "ello él PRON PRON__Number=Sing|Person=3|PronType=Prs obj\n",
      "y y CONJ CCONJ___ cc\n",
      "Zidane Zidane PROPN PROPN___ conj\n",
      ", , PUNCT PUNCT__PunctType=Comm punct\n",
      "con con ADP ADP__AdpType=Prep case\n",
      "conversaciones conversación NOUN NOUN__Gender=Fem|Number=Plur obl\n",
      "públicas público ADJ ADJ__Gender=Fem|Number=Plur amod\n",
      "y y CONJ CCONJ___ cc\n",
      "privadas privar ADJ ADJ__Gender=Fem|Number=Plur|VerbForm=Part conj\n",
      ", , PUNCT PUNCT__PunctType=Comm punct\n",
      "empujaba empujar VERB VERB__Mood=Ind|Number=Sing|Person=3|Tense=Imp|VerbForm=Fin advcl\n",
      "mucho mucho ADV ADV___ advmod\n",
      "... ... PUNCT PUNCT__PunctType=Comm punct\n",
      "con con ADP ADP__AdpType=Prep mark\n",
      "el el DET DET__Gender=Masc|Number=Sing|PronType=Art det\n",
      "objetivo objetivar NOUN NOUN__Gender=Masc|Number=Sing fixed\n",
      "de de ADP ADP__AdpType=Prep mark\n",
      "poder poder AUX AUX__VerbForm=Inf aux\n",
      "fichar fichar VERB VERB__VerbForm=Inf advcl\n",
      "algún alguno DET DET__Gender=Masc|Number=Sing|PronType=Ind det\n",
      "día día NOUN NOUN__Gender=Masc|Number=Sing obl\n",
      "a a ADP ADP__AdpType=Prep case\n",
      "un uno DET DET__Definite=Ind|Gender=Masc|Number=Sing|PronType=Art det\n",
      "futbolista futbolista NOUN NOUN__Number=Sing obj\n",
      "que que PRON PRON__PronType=Rel nsubj\n",
      "quería querer VERB VERB__Mood=Ind|Number=Sing|Person=3|Tense=Imp|VerbForm=Fin acl\n",
      "vestirse vestirse VERB VERB__Mood=Ind|Number=Sing|Person=3|Tense=Past|VerbForm=Fin xcomp\n",
      "de de ADP ADP__AdpType=Prep case\n",
      "blanco blanco NOUN NOUN__Gender=Masc|Number=Sing obl\n",
      ", , PUNCT PUNCT__PunctType=Comm punct\n",
      "pero pero CONJ CCONJ___ cc\n",
      "que que PRON PRON__PronType=Rel nsubj\n",
      "tenía tener VERB VERB__Mood=Ind|Number=Sing|Person=3|Tense=Imp|VerbForm=Fin conj\n",
      "muchas mucho DET DET__Gender=Fem|Number=Plur|PronType=Ind det\n",
      "otras otro DET DET__Gender=Fem|Number=Plur|PronType=Ind det\n",
      "novias novio NOUN NOUN__Gender=Fem|Number=Plur obj\n",
      "contra contra ADP ADP__AdpType=Prep case\n",
      "las los DET DET__Definite=Def|Gender=Fem|Number=Plur|PronType=Art det\n",
      "que que PRON PRON__PronType=Rel obl\n",
      "ha haber AUX AUX__Mood=Ind|Number=Sing|Person=3|Tense=Pres|VerbForm=Fin aux\n",
      "tenido tener VERB VERB__Gender=Masc|Number=Sing|Tense=Past|VerbForm=Part acl\n",
      "que que SCONJ SCONJ___ cc\n",
      "luchar luchar VERB VERB__VerbForm=Inf conj\n",
      "la lo DET DET__Definite=Def|Gender=Fem|Number=Sing|PronType=Art det\n",
      "secretaría secretar NOUN NOUN__Gender=Fem|Number=Sing obj\n",
      "técnica técnico ADJ ADJ__Gender=Fem|Number=Sing amod\n",
      "del del ADP ADP__AdpType=Preppron|Gender=Masc|Number=Sing case\n",
      "Madrid Madrid PROPN PROPN___ nmod\n",
      ". . PUNCT PUNCT__PunctType=Peri punct\n",
      "\n",
      " \n",
      " SPACE _SP \n",
      "Esas Esas DET DET__Gender=Fem|Number=Plur|PronType=Dem det\n",
      "visitas visitar NOUN NOUN__Gender=Fem|Number=Plur nsubj\n",
      "de de ADP ADP__AdpType=Prep case\n",
      "incógnito incógnito NOUN NOUN___ nmod\n",
      "del del ADP ADP__AdpType=Preppron|Gender=Masc|Number=Sing case\n",
      "citado citar ADJ ADJ__Gender=Masc|Number=Sing|VerbForm=Part amod\n",
      "Juni Juni PROPN PROPN___ nmod\n",
      "Calafat Calafat PROPN PROPN___ flat\n",
      "a a ADP ADP__AdpType=Prep case\n",
      "Londres Londres PROPN PROPN___ nmod\n",
      "tenían tener VERB VERB__Mood=Ind|Number=Plur|Person=3|Tense=Imp|VerbForm=Fin ROOT\n",
      "el el DET DET__Definite=Def|Gender=Masc|Number=Sing|PronType=Art det\n",
      "objetivo objetivar NOUN NOUN__Gender=Masc|Number=Sing obj\n",
      "de de ADP ADP__AdpType=Prep mark\n",
      "fidelizar fidelizar VERB VERB__VerbForm=Inf acl\n",
      "al al ADP ADP__AdpType=Preppron|Gender=Masc|Number=Sing case\n",
      "futbolista futbolista NOUN NOUN__Number=Sing obj\n",
      "y y CONJ CCONJ___ cc\n",
      "a a ADP ADP__AdpType=Prep case\n",
      "todo todo DET DET__Gender=Masc|Number=Sing|PronType=Ind det\n",
      "su su DET DET__Number=Sing|Person=3|Poss=Yes|PronType=Prs det\n",
      "entorno entornar NOUN NOUN__Gender=Masc|Number=Sing conj\n",
      "más más ADV ADV___ advmod\n",
      "cercano cercano ADJ ADJ__Gender=Masc|Number=Sing amod\n",
      ". . PUNCT PUNCT__PunctType=Peri punct\n",
      "\n",
      "Entidades\n",
      "Hazard ORG\n",
      "Santiago Bernabéu LOC\n",
      "Los focos alumbrarán a un fichaje MISC\n",
      "El belga MISC\n",
      "Pero MISC\n",
      "Chelsea LOC\n",
      "Por entonces MISC\n",
      "MARCA MISC\n",
      "Cerco del Madrid MISC\n",
      "Hazard PER\n",
      "Juni Calafat PER\n",
      "José Ángel Sánchez PER\n",
      "Londres LOC\n",
      "Hazard PER\n",
      "Un plan ideado por Sánchez MISC\n",
      "Calafat LOC\n",
      "Zidane PER\n",
      "Madrid LOC\n",
      "Juni Calafat PER\n",
      "Londres LOC\n"
     ]
    }
   ],
   "source": [
    "nlp = spacy.load('es_core_news_sm')\n",
    "doc = nlp(documento)\n",
    "\n",
    "print(\"\\Frases\")\n",
    "for sent in doc.sents:\n",
    "    print(sent.text)\n",
    "\n",
    "print(\"\\nTokens\")\n",
    "for token in doc:\n",
    "    print(token.text, token.lemma_, token.pos_, token.tag_, token.dep_)\n",
    "\n",
    "print(\"\\nEntidades\")\n",
    "for ent in doc.ents:\n",
    "    print(ent.text, ent.label_)"
   ]
  },
  {
   "cell_type": "markdown",
   "metadata": {},
   "source": [
    "Como vimos en la práctica anterior, la libreria Spacy ofrece mejores resltados que NLTK para textos en castellano. Cargamos el modleo para textos en castellanoellano que sería nuestro caso y proseguimos con el estudio"
   ]
  },
  {
   "cell_type": "markdown",
   "metadata": {},
   "source": [
    "### Ajuste antes de análisis LDA"
   ]
  },
  {
   "cell_type": "markdown",
   "metadata": {},
   "source": [
    "Pasamos todas las palabras a minúsculas y a formas normales y retiraremos las palabras vacías"
   ]
  },
  {
   "cell_type": "code",
   "execution_count": 78,
   "metadata": {},
   "outputs": [],
   "source": [
    "es_stop = get_stop_words('es')"
   ]
  },
  {
   "cell_type": "code",
   "execution_count": 79,
   "metadata": {},
   "outputs": [],
   "source": [
    "textos = []\n",
    "palabras = []\n",
    "\n",
    "for doc in archivos_lista:\n",
    "    doc_min = doc.lower()\n",
    "    doc = nlp(doc_min)\n",
    "    \n",
    "    for token in doc:\n",
    "        if (not token.lemma_ in es_stop) and (len(token.lemma_)>1):\n",
    "            palabras.append(token.lemma_)\n",
    "    \n",
    "    textos.append(palabras)\n",
    "    palabras = []"
   ]
  },
  {
   "cell_type": "markdown",
   "metadata": {},
   "source": [
    "Creamos un diccionario que es una matriz de lista de las plabras que aparecen en el corpus."
   ]
  },
  {
   "cell_type": "code",
   "execution_count": 80,
   "metadata": {},
   "outputs": [],
   "source": [
    "diccionario = corpora.Dictionary(textos)\n",
    "    \n",
    "# Ahora generamos la matriz términos documentos que nos hace falta para llamar a la función que genera el modelo LDA\n",
    "corpus = [diccionario.doc2bow(texto) for texto in textos]\n"
   ]
  },
  {
   "cell_type": "markdown",
   "metadata": {},
   "source": [
    "### Gráfico de tópicos"
   ]
  },
  {
   "cell_type": "markdown",
   "metadata": {},
   "source": [
    "Creamos el gráfico que nos represente los valores obtenidos y podamos interactuar para ver las disntintas agrupaciones y clústers"
   ]
  },
  {
   "cell_type": "code",
   "execution_count": 81,
   "metadata": {},
   "outputs": [],
   "source": [
    "ldamodel = gensim.models.ldamodel.LdaModel(corpus, num_topics=7, id2word = diccionario, passes=50)"
   ]
  },
  {
   "cell_type": "code",
   "execution_count": 82,
   "metadata": {},
   "outputs": [
    {
     "name": "stdout",
     "output_type": "stream",
     "text": [
      "[(0, '0.020*\"haber\" + 0.016*\"tener\" + 0.016*\"metro\" + 0.016*\"ayuntamiento\" + 0.012*\"\\r\\n\" + 0.012*\"obrar\" + 0.012*\"pagar\" + 0.012*\"determinar\" + 0.008*\"parir\" + 0.008*\"millón\"'), (1, '0.055*\"euro\" + 0.024*\"semana\" + 0.020*\"entrar\" + 0.020*\"anterior\" + 0.020*\"aceitar\" + 0.016*\"virgen\" + 0.016*\"tonelada\" + 0.016*\"1.900\" + 0.012*\"\\r\\n\" + 0.012*\"lampante\"'), (2, '0.020*\"ciudad\" + 0.014*\"madrid\" + 0.012*\"españa\" + 0.009*\"llegar\" + 0.009*\"pasar\" + 0.009*\"nuevo\" + 0.009*\"palacio\" + 0.009*\"película\" + 0.009*\"comer\" + 0.009*\"parir\"'), (3, '0.023*\"parir\" + 0.015*\"ser\" + 0.013*\"tener\" + 0.013*\"comer\" + 0.012*\"\\r\\n\" + 0.009*\"sistema\" + 0.009*\"apple\" + 0.009*\"vehículo\" + 0.007*\"partir\" + 0.007*\"poder\"'), (4, '0.014*\"ser\" + 0.011*\"robot\" + 0.007*\"poner\" + 0.007*\"conseguir\" + 0.007*\"mismo\" + 0.007*\"pasar\" + 0.007*\"final\" + 0.007*\"picar\" + 0.007*\"padua\" + 0.007*\"world\"'), (5, '0.001*\"comer\" + 0.001*\"tener\" + 0.001*\"ser\" + 0.001*\"españa\" + 0.001*\"hacer\" + 0.001*\"ciudad\" + 0.001*\"empezar\" + 0.001*\"madrid\" + 0.001*\"cualquiera\" + 0.001*\"película\"'), (6, '0.024*\"ser\" + 0.021*\"haber\" + 0.011*\"\\r\\n\" + 0.011*\"fichaje\" + 0.008*\"especie\" + 0.008*\"plantar\" + 0.008*\"lavatera\" + 0.008*\"género\" + 0.008*\"calafat\" + 0.008*\"club\"')]\n"
     ]
    }
   ],
   "source": [
    "print(ldamodel.print_topics(num_topics=7, num_words=10))"
   ]
  },
  {
   "cell_type": "code",
   "execution_count": 83,
   "metadata": {},
   "outputs": [
    {
     "name": "stderr",
     "output_type": "stream",
     "text": [
      "C:\\Users\\ricki\\Anaconda3\\lib\\site-packages\\pyLDAvis\\_prepare.py:257: FutureWarning: Sorting because non-concatenation axis is not aligned. A future version\n",
      "of pandas will change to not sort by default.\n",
      "\n",
      "To accept the future behavior, pass 'sort=True'.\n",
      "\n",
      "To retain the current behavior and silence the warning, pass sort=False\n",
      "\n",
      "  return pd.concat([default_term_info] + list(topic_dfs))\n"
     ]
    }
   ],
   "source": [
    "pyLDAvis.enable_notebook()\n",
    "\n",
    "data = pyLDAvis.gensim.prepare(ldamodel, corpus, diccionario)"
   ]
  },
  {
   "cell_type": "code",
   "execution_count": 84,
   "metadata": {},
   "outputs": [
    {
     "data": {
      "text/html": [
       "\n",
       "<link rel=\"stylesheet\" type=\"text/css\" href=\"https://cdn.rawgit.com/bmabey/pyLDAvis/files/ldavis.v1.0.0.css\">\n",
       "\n",
       "\n",
       "<div id=\"ldavis_el1620019041631008561883709483\"></div>\n",
       "<script type=\"text/javascript\">\n",
       "\n",
       "var ldavis_el1620019041631008561883709483_data = {\"mdsDat\": {\"x\": [-0.12200753576106486, -0.07933806325133111, 0.09166369897925601, 0.01995360271455283, -0.008437552912598978, 0.09988579114432351, -0.0017199409131373096], \"y\": [-0.12262297593205569, 0.13258952636879442, 0.024764773258430302, 0.0022640414476100996, 0.03344739450997134, -0.06491445400085151, -0.0055283056518988195], \"topics\": [1, 2, 3, 4, 5, 6, 7], \"cluster\": [1, 1, 1, 1, 1, 1, 1], \"Freq\": [33.96843338012695, 18.287525177001953, 16.64832878112793, 11.801987648010254, 9.805131912231445, 9.377511978149414, 0.11108016967773438]}, \"tinfo\": {\"Category\": [\"Default\", \"Default\", \"Default\", \"Default\", \"Default\", \"Default\", \"Default\", \"Default\", \"Default\", \"Default\", \"Default\", \"Default\", \"Default\", \"Default\", \"Default\", \"Default\", \"Default\", \"Default\", \"Default\", \"Default\", \"Default\", \"Default\", \"Default\", \"Default\", \"Default\", \"Default\", \"Default\", \"Default\", \"Default\", \"Default\", \"Topic1\", \"Topic1\", \"Topic1\", \"Topic1\", \"Topic1\", \"Topic1\", \"Topic1\", \"Topic1\", \"Topic1\", \"Topic1\", \"Topic1\", \"Topic1\", \"Topic1\", \"Topic1\", \"Topic1\", \"Topic1\", \"Topic1\", \"Topic1\", \"Topic1\", \"Topic1\", \"Topic1\", \"Topic1\", \"Topic1\", \"Topic1\", \"Topic1\", \"Topic1\", \"Topic1\", \"Topic1\", \"Topic1\", \"Topic1\", \"Topic1\", \"Topic1\", \"Topic1\", \"Topic1\", \"Topic1\", \"Topic1\", \"Topic1\", \"Topic1\", \"Topic1\", \"Topic1\", \"Topic1\", \"Topic1\", \"Topic1\", \"Topic1\", \"Topic1\", \"Topic1\", \"Topic1\", \"Topic1\", \"Topic1\", \"Topic1\", \"Topic1\", \"Topic1\", \"Topic1\", \"Topic1\", \"Topic1\", \"Topic1\", \"Topic1\", \"Topic2\", \"Topic2\", \"Topic2\", \"Topic2\", \"Topic2\", \"Topic2\", \"Topic2\", \"Topic2\", \"Topic2\", \"Topic2\", \"Topic2\", \"Topic2\", \"Topic2\", \"Topic2\", \"Topic2\", \"Topic2\", \"Topic2\", \"Topic2\", \"Topic2\", \"Topic2\", \"Topic2\", \"Topic2\", \"Topic2\", \"Topic2\", \"Topic2\", \"Topic2\", \"Topic2\", \"Topic2\", \"Topic2\", \"Topic2\", \"Topic2\", \"Topic2\", \"Topic2\", \"Topic2\", \"Topic2\", \"Topic2\", \"Topic2\", \"Topic2\", \"Topic2\", \"Topic2\", \"Topic2\", \"Topic2\", \"Topic2\", \"Topic2\", \"Topic2\", \"Topic2\", \"Topic2\", \"Topic2\", \"Topic2\", \"Topic3\", \"Topic3\", \"Topic3\", \"Topic3\", \"Topic3\", \"Topic3\", \"Topic3\", \"Topic3\", \"Topic3\", \"Topic3\", \"Topic3\", \"Topic3\", \"Topic3\", \"Topic3\", \"Topic3\", \"Topic3\", \"Topic3\", \"Topic3\", \"Topic3\", \"Topic3\", \"Topic3\", \"Topic3\", \"Topic3\", \"Topic3\", \"Topic3\", \"Topic3\", \"Topic3\", \"Topic3\", \"Topic3\", \"Topic3\", \"Topic3\", \"Topic3\", \"Topic3\", \"Topic3\", \"Topic3\", \"Topic3\", \"Topic3\", \"Topic3\", \"Topic3\", \"Topic3\", \"Topic3\", \"Topic3\", \"Topic3\", \"Topic3\", \"Topic3\", \"Topic3\", \"Topic3\", \"Topic3\", \"Topic3\", \"Topic3\", \"Topic3\", \"Topic3\", \"Topic3\", \"Topic3\", \"Topic3\", \"Topic3\", \"Topic3\", \"Topic3\", \"Topic3\", \"Topic3\", \"Topic3\", \"Topic3\", \"Topic3\", \"Topic3\", \"Topic3\", \"Topic3\", \"Topic3\", \"Topic3\", \"Topic3\", \"Topic3\", \"Topic3\", \"Topic3\", \"Topic3\", \"Topic3\", \"Topic3\", \"Topic3\", \"Topic3\", \"Topic3\", \"Topic3\", \"Topic3\", \"Topic3\", \"Topic3\", \"Topic3\", \"Topic3\", \"Topic3\", \"Topic3\", \"Topic3\", \"Topic3\", \"Topic3\", \"Topic3\", \"Topic3\", \"Topic3\", \"Topic3\", \"Topic3\", \"Topic3\", \"Topic3\", \"Topic3\", \"Topic3\", \"Topic3\", \"Topic3\", \"Topic3\", \"Topic3\", \"Topic3\", \"Topic3\", \"Topic3\", \"Topic3\", \"Topic3\", \"Topic3\", \"Topic3\", \"Topic3\", \"Topic4\", \"Topic4\", \"Topic4\", \"Topic4\", \"Topic4\", \"Topic4\", \"Topic4\", \"Topic4\", \"Topic4\", \"Topic4\", \"Topic4\", \"Topic4\", \"Topic4\", \"Topic4\", \"Topic4\", \"Topic4\", \"Topic4\", \"Topic4\", \"Topic4\", \"Topic4\", \"Topic4\", \"Topic4\", \"Topic4\", \"Topic4\", \"Topic4\", \"Topic4\", \"Topic4\", \"Topic4\", \"Topic4\", \"Topic4\", \"Topic4\", \"Topic4\", \"Topic4\", \"Topic4\", \"Topic4\", \"Topic4\", \"Topic4\", \"Topic4\", \"Topic4\", \"Topic4\", \"Topic4\", \"Topic4\", \"Topic4\", \"Topic4\", \"Topic4\", \"Topic4\", \"Topic4\", \"Topic4\", \"Topic4\", \"Topic4\", \"Topic4\", \"Topic4\", \"Topic4\", \"Topic4\", \"Topic4\", \"Topic4\", \"Topic4\", \"Topic4\", \"Topic4\", \"Topic4\", \"Topic4\", \"Topic4\", \"Topic4\", \"Topic4\", \"Topic4\", \"Topic4\", \"Topic4\", \"Topic4\", \"Topic4\", \"Topic4\", \"Topic4\", \"Topic4\", \"Topic4\", \"Topic4\", \"Topic4\", \"Topic4\", \"Topic4\", \"Topic4\", \"Topic4\", \"Topic4\", \"Topic4\", \"Topic4\", \"Topic4\", \"Topic4\", \"Topic4\", \"Topic4\", \"Topic4\", \"Topic4\", \"Topic4\", \"Topic4\", \"Topic4\", \"Topic4\", \"Topic4\", \"Topic4\", \"Topic4\", \"Topic4\", \"Topic4\", \"Topic4\", \"Topic4\", \"Topic5\", \"Topic5\", \"Topic5\", \"Topic5\", \"Topic5\", \"Topic5\", \"Topic5\", \"Topic5\", \"Topic5\", \"Topic5\", \"Topic5\", \"Topic5\", \"Topic5\", \"Topic5\", \"Topic5\", \"Topic5\", \"Topic5\", \"Topic5\", \"Topic5\", \"Topic5\", \"Topic5\", \"Topic5\", \"Topic5\", \"Topic5\", \"Topic5\", \"Topic5\", \"Topic5\", \"Topic5\", \"Topic5\", \"Topic5\", \"Topic5\", \"Topic5\", \"Topic5\", \"Topic5\", \"Topic5\", \"Topic5\", \"Topic5\", \"Topic5\", \"Topic5\", \"Topic5\", \"Topic5\", \"Topic5\", \"Topic5\", \"Topic5\", \"Topic5\", \"Topic5\", \"Topic5\", \"Topic5\", \"Topic5\", \"Topic5\", \"Topic5\", \"Topic5\", \"Topic5\", \"Topic5\", \"Topic5\", \"Topic5\", \"Topic5\", \"Topic5\", \"Topic5\", \"Topic5\", \"Topic5\", \"Topic5\", \"Topic5\", \"Topic6\", \"Topic6\", \"Topic6\", \"Topic6\", \"Topic6\", \"Topic6\", \"Topic6\", \"Topic6\", \"Topic6\", \"Topic6\", \"Topic6\", \"Topic6\", \"Topic6\", \"Topic6\", \"Topic6\", \"Topic6\", \"Topic6\", \"Topic6\", \"Topic6\", \"Topic6\", \"Topic6\", \"Topic6\", \"Topic6\", \"Topic6\", \"Topic6\", \"Topic6\", \"Topic6\", \"Topic6\", \"Topic6\", \"Topic6\", \"Topic6\", \"Topic6\", \"Topic6\", \"Topic6\", \"Topic6\", \"Topic6\", \"Topic6\", \"Topic6\", \"Topic6\", \"Topic6\", \"Topic6\", \"Topic6\", \"Topic6\", \"Topic6\", \"Topic6\", \"Topic6\", \"Topic6\", \"Topic6\", \"Topic6\", \"Topic6\", \"Topic6\", \"Topic6\", \"Topic6\", \"Topic6\", \"Topic6\", \"Topic6\", \"Topic6\", \"Topic6\", \"Topic6\", \"Topic6\", \"Topic6\", \"Topic6\", \"Topic6\", \"Topic6\", \"Topic6\", \"Topic6\", \"Topic6\", \"Topic6\", \"Topic6\", \"Topic6\", \"Topic6\", \"Topic6\", \"Topic7\", \"Topic7\", \"Topic7\", \"Topic7\", \"Topic7\", \"Topic7\", \"Topic7\", \"Topic7\", \"Topic7\", \"Topic7\", \"Topic7\", \"Topic7\", \"Topic7\", \"Topic7\", \"Topic7\", \"Topic7\", \"Topic7\", \"Topic7\", \"Topic7\", \"Topic7\", \"Topic7\", \"Topic7\", \"Topic7\", \"Topic7\", \"Topic7\", \"Topic7\", \"Topic7\", \"Topic7\", \"Topic7\", \"Topic7\", \"Topic7\", \"Topic7\", \"Topic7\", \"Topic7\", \"Topic7\", \"Topic7\", \"Topic7\", \"Topic7\", \"Topic7\", \"Topic7\", \"Topic7\", \"Topic7\", \"Topic7\", \"Topic7\", \"Topic7\", \"Topic7\", \"Topic7\", \"Topic7\", \"Topic7\", \"Topic7\", \"Topic7\", \"Topic7\", \"Topic7\", \"Topic7\", \"Topic7\", \"Topic7\", \"Topic7\", \"Topic7\", \"Topic7\", \"Topic7\", \"Topic7\", \"Topic7\", \"Topic7\", \"Topic7\", \"Topic7\", \"Topic7\", \"Topic7\", \"Topic7\", \"Topic7\", \"Topic7\", \"Topic7\", \"Topic7\"], \"Freq\": [8.0, 4.0, 5.0, 6.0, 3.0, 14.0, 3.0, 3.0, 3.0, 5.0, 2.0, 2.0, 2.0, 18.0, 3.0, 2.0, 3.0, 2.0, 2.0, 2.0, 2.0, 12.0, 2.0, 2.0, 2.0, 4.0, 4.0, 3.0, 3.0, 4.0, 4.061910152435303, 4.061911106109619, 3.2720820903778076, 2.4822518825531006, 2.4822514057159424, 2.4822516441345215, 2.4822514057159424, 2.4822518825531006, 2.4822514057159424, 2.4822514057159424, 4.061915874481201, 1.692420244216919, 1.6924196481704712, 1.6924197673797607, 1.6924196481704712, 1.6924197673797607, 1.6924196481704712, 1.6924197673797607, 1.6924197673797607, 1.6924196481704712, 1.6924200057983398, 1.6924197673797607, 1.6924197673797607, 1.6924197673797607, 1.6924196481704712, 1.6924196481704712, 1.6924197673797607, 1.6924197673797607, 1.6924196481704712, 1.6924196481704712, 1.6924196481704712, 1.6924196481704712, 1.6924196481704712, 11.17054271697998, 3.272088050842285, 3.2720894813537598, 6.431412220001221, 6.431430339813232, 1.6924197673797607, 1.6924197673797607, 2.482257843017578, 2.4822564125061035, 7.221238613128662, 5.641565799713135, 3.2721214294433594, 3.2720284461975098, 1.6924196481704712, 1.692419409751892, 1.6924196481704712, 1.692419409751892, 1.6924196481704712, 1.692419409751892, 1.6924240589141846, 1.6924240589141846, 1.69242262840271, 1.6924208402633667, 1.6924208402633667, 2.779524564743042, 2.108596086502075, 2.108596086502075, 2.108596086502075, 2.108595848083496, 2.108596086502075, 2.108596086502075, 1.4376660585403442, 1.4376658201217651, 1.437665581703186, 1.4376654624938965, 1.4376658201217651, 1.4376654624938965, 1.4376654624938965, 1.4376654624938965, 1.437665581703186, 1.4376654624938965, 1.4376654624938965, 1.437665581703186, 1.437665581703186, 1.437665581703186, 0.7667307257652283, 0.7667307257652283, 0.7667306661605835, 0.7667306661605835, 0.7667306661605835, 0.7667306661605835, 0.7667306661605835, 0.7667306661605835, 0.7667306661605835, 0.7667306661605835, 0.7667306661605835, 0.7667306661605835, 0.7667306661605835, 0.7667306065559387, 0.7667306661605835, 1.4376667737960815, 1.4376672506332397, 1.437672734260559, 2.10861873626709, 2.1086273193359375, 5.463320732116699, 1.4376730918884277, 6.1342549324035645, 1.437678337097168, 2.7795357704162598, 2.1085848808288574, 2.1085946559906006, 1.4376736879348755, 2.042431354522705, 2.042431354522705, 1.3925546407699585, 1.3925546407699585, 1.3925546407699585, 1.392554521560669, 1.3925544023513794, 1.3925544023513794, 1.3925544023513794, 4.641988754272461, 2.692324161529541, 3.3421921730041504, 0.7426735162734985, 0.7426735162734985, 0.7426735162734985, 0.7426735162734985, 0.7426735162734985, 0.7426735758781433, 0.7426735162734985, 0.7426735162734985, 0.7426735758781433, 0.7426735162734985, 0.742673397064209, 0.7426735162734985, 0.742673397064209, 0.7426735162734985, 0.7426735162734985, 0.7426735162734985, 0.7426735162734985, 0.7426735162734985, 0.7426735162734985, 0.742673397064209, 0.7426735162734985, 0.742673397064209, 0.742673397064209, 0.7426735162734985, 0.742673397064209, 0.7426735162734985, 0.742673397064209, 0.7426735162734985, 0.7426735758781433, 0.742673397064209, 0.7426735162734985, 0.7426735162734985, 0.7426735162734985, 0.7426735162734985, 0.742673397064209, 0.742673397064209, 1.3925567865371704, 0.7426735162734985, 0.7426735162734985, 0.7426735162734985, 0.7426735162734985, 0.7426735162734985, 0.7426735162734985, 0.742673397064209, 0.7426735162734985, 0.7426735162734985, 2.0424575805664062, 2.0424399375915527, 0.7426735162734985, 1.392561912536621, 0.742673397064209, 0.742673397064209, 0.7426735162734985, 0.742673397064209, 0.7426735162734985, 0.742673397064209, 0.742673397064209, 0.742673397064209, 0.742673397064209, 0.7426735162734985, 0.7426735162734985, 0.742673397064209, 2.0424466133117676, 1.3925641775131226, 0.742673397064209, 0.7426735162734985, 0.742673397064209, 0.742673397064209, 0.742673397064209, 1.3925533294677734, 0.742673397064209, 0.742673397064209, 0.742673397064209, 0.7426735162734985, 0.7426735162734985, 0.7426733374595642, 1.392562747001648, 0.7426735162734985, 0.7426735162734985, 2.042430877685547, 0.7426733374595642, 0.7426735162734985, 0.7426733374595642, 2.0424211025238037, 0.7426733374595642, 2.0424013137817383, 0.742673397064209, 0.7426733374595642, 0.742673397064209, 0.742673397064209, 1.392534852027893, 1.3925021886825562, 1.3925104141235352, 0.742673397064209, 0.7426782846450806, 0.7426771521568298, 0.7426772117614746, 0.7426772117614746, 1.7857080698013306, 1.2175201177597046, 1.217519760131836, 1.217519760131836, 1.217519760131836, 1.2175196409225464, 1.217519760131836, 1.217519760131836, 1.2175196409225464, 1.2175195217132568, 1.2175195217132568, 1.2175195217132568, 0.6493281722068787, 0.6493281722068787, 0.6493280529975891, 0.6493280529975891, 0.6493280529975891, 0.6493280529975891, 0.6493280529975891, 0.6493279933929443, 0.6493280529975891, 0.6493280529975891, 0.6493280529975891, 0.6493279933929443, 0.6493280529975891, 0.6493280529975891, 0.6493280529975891, 0.6493280529975891, 0.6493280529975891, 0.6493279933929443, 0.6493279337882996, 0.6493279933929443, 0.6493279337882996, 0.6493279337882996, 0.6493280529975891, 0.6493280529975891, 0.6493279933929443, 0.6493280529975891, 0.6493280529975891, 0.6493280529975891, 0.6493280529975891, 0.6493280529975891, 0.6493279337882996, 0.6493279933929443, 0.6493280529975891, 0.6493280529975891, 0.6493279337882996, 0.6493279337882996, 0.6493280529975891, 0.6493280529975891, 0.6493280529975891, 0.6493279933929443, 0.6493279933929443, 1.217531442642212, 0.6493279933929443, 0.6493279337882996, 0.6493279933929443, 0.6493279337882996, 0.6493279337882996, 1.217525839805603, 0.6493279337882996, 0.6493279337882996, 0.6493279933929443, 0.6493279933929443, 0.6493279933929443, 0.6493279337882996, 0.6493279337882996, 0.6493279337882996, 1.2175356149673462, 0.6493279337882996, 0.6493279337882996, 0.6493279337882996, 0.6493279933929443, 0.6493279337882996, 1.217529296875, 0.6493279933929443, 0.6493279337882996, 2.3538897037506104, 1.217525839805603, 0.6493279337882996, 1.2175124883651733, 0.6493279337882996, 0.6493279337882996, 0.6493279337882996, 1.2174668312072754, 1.2174900770187378, 0.6493279337882996, 0.6493278741836548, 0.6493278741836548, 0.6493279337882996, 0.6493316888809204, 0.6493306756019592, 0.6493309140205383, 0.6493306756019592, 0.6493304371833801, 0.6493304371833801, 0.6493306159973145, 0.6493297219276428, 0.6493290662765503, 2.1717123985290527, 1.647500991821289, 1.647500991821289, 1.1232891082763672, 1.1232891082763672, 1.1232891082763672, 1.1232891082763672, 1.123288869857788, 1.1232889890670776, 1.1232889890670776, 1.123288869857788, 1.123288869857788, 1.123288869857788, 1.1232889890670776, 2.1717331409454346, 1.6475127935409546, 0.5990744829177856, 0.5990743637084961, 0.5990743637084961, 0.5990743637084961, 0.5990743637084961, 0.5990743637084961, 0.5990744829177856, 0.5990743637084961, 0.5990743637084961, 0.5990744829177856, 0.5990744829177856, 0.5990743637084961, 0.5990743637084961, 0.5990744829177856, 0.5990743637084961, 0.5990743637084961, 0.5990743637084961, 1.123299241065979, 0.5990743637084961, 0.5990743637084961, 0.5990743637084961, 0.5990743637084961, 0.5990743637084961, 0.5990744829177856, 0.5990743637084961, 0.5990744829177856, 0.5990743637084961, 0.5990743637084961, 0.5990743637084961, 2.695993423461914, 1.1232962608337402, 0.5990743637084961, 0.5990743637084961, 0.5990743637084961, 2.171759605407715, 0.5990743637084961, 1.6475334167480469, 0.5990743637084961, 1.1232919692993164, 1.1233059167861938, 0.5990844368934631, 0.5990831851959229, 0.5990805625915527, 0.5990803241729736, 0.5990796685218811, 0.5990784764289856, 0.5990781188011169, 7.256414890289307, 2.6386678218841553, 2.1255900859832764, 2.1255900859832764, 1.6125119924545288, 1.6125117540359497, 1.6125118732452393, 1.6125118732452393, 3.151784658432007, 1.099433183670044, 1.099433183670044, 1.099433183670044, 1.0994330644607544, 2.638688087463379, 2.125605583190918, 0.586351752281189, 0.586351752281189, 0.586351752281189, 0.586351752281189, 0.586351752281189, 0.586351752281189, 0.586351752281189, 0.586351752281189, 0.586351752281189, 0.586351752281189, 0.586351752281189, 0.586351752281189, 0.586351752281189, 0.586351752281189, 0.586351752281189, 0.5863516926765442, 0.5863516926765442, 0.5863516926765442, 0.5863516926765442, 0.586351752281189, 0.586351752281189, 0.586351752281189, 0.586351752281189, 0.586351752281189, 0.586351752281189, 0.586351752281189, 0.586351752281189, 0.586351752281189, 0.586351752281189, 0.586351752281189, 0.586351752281189, 2.6387476921081543, 0.586351752281189, 0.586351752281189, 0.586351752281189, 1.0994439125061035, 0.5863516926765442, 0.586351752281189, 0.5863516926765442, 0.586351752281189, 0.5863516926765442, 1.0994489192962646, 0.5863516926765442, 1.612542986869812, 0.586351752281189, 0.586351752281189, 0.5863600373268127, 0.5863587260246277, 0.5863572955131531, 0.5863560438156128, 0.5863556265830994, 0.5863552093505859, 0.5863548517227173, 0.5863544940948486, 0.5863543748855591, 0.5863531827926636, 0.5863532423973083, 0.0017750042024999857, 0.0017750042024999857, 0.0017750042024999857, 0.0017750042024999857, 0.0017750042024999857, 0.0017750042024999857, 0.0017750042024999857, 0.0017750042024999857, 0.0017750042024999857, 0.0017750042024999857, 0.0017750042024999857, 0.0017750042024999857, 0.0017750042024999857, 0.0017750042024999857, 0.0017750042024999857, 0.0017750042024999857, 0.0017750042024999857, 0.0017750042024999857, 0.0017750042024999857, 0.0017750042024999857, 0.0017750042024999857, 0.0017750042024999857, 0.0017750042024999857, 0.0017750042024999857, 0.0017750042024999857, 0.0017750042024999857, 0.0017750042024999857, 0.0017750042024999857, 0.0017750042024999857, 0.0017750042024999857, 0.0017750042024999857, 0.0017750042024999857, 0.0017750042024999857, 0.0017750042024999857, 0.0017750042024999857, 0.0017750042024999857, 0.0017750042024999857, 0.0017750042024999857, 0.0017750042024999857, 0.0017750042024999857, 0.0017750042024999857, 0.0017750042024999857, 0.0017750279512256384, 0.0017750270199030638, 0.0017750200349837542, 0.0017750192200765014, 0.001775015494786203, 0.001775014796294272, 0.0017750139813870192, 0.0017750142142176628, 0.0017750143306329846, 0.0017750142142176628, 0.0017750135157257318, 0.0017750132828950882, 0.0017750129336491227, 0.0017750122351571918, 0.001775011420249939, 0.0017750116530805826, 0.0017750103725120425, 0.0017750103725120425, 0.0017750102560967207, 0.0017750106053426862, 0.0017750109545886517, 0.0017750109545886517, 0.001775010023266077, 0.001775009441189468, 0.001775009441189468, 0.0017750096740201116, 0.0017750096740201116, 0.0017750089755281806, 0.0017750086262822151, 0.001775008742697537], \"Term\": [\"euro\", \"semana\", \"entrar\", \"ciudad\", \"anterior\", \"haber\", \"aceitar\", \"virgen\", \"metro\", \"madrid\", \"tonelada\", \"1.900\", \"ayuntamiento\", \"ser\", \"fichaje\", \"obrar\", \"espa\\u00f1a\", \"lampante\", \"precio\", \"extra\", \"subir\", \"tener\", \"pagar\", \"determinar\", \"robot\", \"pasar\", \"sistema\", \"fuente\", \"usar\", \"veh\\u00edculo\", \"veh\\u00edculo\", \"apple\", \"mac\", \"desarrollador\", \"ipad\", \"mejor\", \"central\", \"ios\", \"llamar\", \"d\\u00e1til\", \"sistema\", \"ir\", \"nunca\", \"transformar\", \"utilizar\", \"radiactivo\", \"consumir\", \"operativo\", \"fin\", \"gracia\", \"f\\u00e1cilmente\", \"nuclear\", \"apps\", \"ordenador\", \"inmediaci\\u00f3n\", \"energ\\u00e9tico\", \"mil\", \"ejemplo\", \"laborar\", \"descargar\", \"cotorro\", \"profesional\", \"ocurrir\", \"parir\", \"hacer\", \"poder\", \"comer\", \"tener\", \"novedad\", \"tableta\", \"abandonar\", \"esperar\", \"ser\", \"\\r\\n\", \"partir\", \"haber\", \"barrita\", \"finalista\", \"all\\u00ed\", \"nadal\", \"dieta\", \"rafa\", \"adem\\u00e1s\", \"zona\", \"llevar\", \"extinci\\u00f3n\", \"proyectar\", \"fichaje\", \"calafat\", \"club\", \"g\\u00e9nero\", \"...\", \"lavatera\", \"hazard\", \"pues\", \"s\\u00e1nchez\", \"largar\", \"conversaci\\u00f3n\", \"malva\", \"entornar\", \"blanco\", \"futbolista\", \"belga\", \"2017\", \"jugador\", \"juni\", \"alguno\", \"plazo\", \"isla\", \"exclusivo\", \"triloba\", \"nitr\\u00f3filo\", \"n\\u00famero\", \"provincia\", \"potencial\", \"frecuentar\", \"problem\\u00e1tico\", \"margen\", \"provenir\", \"camino\", \"cierto\", \"madridismo\", \"zurich\", \"citar\", \"gran\", \"p\\u00fablico\", \"plantar\", \"especie\", \"haber\", \"grande\", \"ser\", \"objetivar\", \"\\r\\n\", \"comer\", \"tener\", \"empezar\", \"pel\\u00edcula\", \"palacio\", \"encontrar\", \"\\ufeff1\", \"prado\", \"siglo\", \"cintar\", \"hueco\", \"felipe\", \"ciudad\", \"espa\\u00f1a\", \"madrid\", \"plano\", \"mole\", \"grabar\", \"habitar\", \"hombre\", \"quedo\", \"hondo\", \"p\\u00f3sters\", \"puerta\", \"alcantarillar\", \"involuntario\", \"fidelidad\", \"in\\u00e9dito\", \"presentar\", \"manera\", \"m\\u00e1quina\", \"plaza\", \"modal\", \"pantalla\", \"inmobiliario\", \"alma\", \"perfecto\", \"castellano\", \"parecer\", \"oculto\", \"mover\", \"met\\u00e1fora\", \"l\\u00f3gico\", \"portero\", \"rodear\", \"casualidad\", \"ahora\", \"acudir\", \"reconstruir\", \"wassilys\", \"\\u00e9stey\", \"acabar\", \"esplendor\", \"simple\", \"contradecir\", \"especulaci\\u00f3n\", \"estancia\", \"exacto\", \"calle\", \"completamente\", \"asombrar\", \"llegar\", \"nuevo\", \"aspiraci\\u00f3n\", \"cualquiera\", \"cambiar\", \"vac\\u00edo\", \"sitiar\", \"sombrar\", \"inmaculado\", \"sumergirse\", \"imponente\", \"giratorio\", \"tosco\", \"borbones\", \"varar\", \"venir\", \"pasar\", \"tiempo\", \"sill\\u00f3n\", \"vivir\", \"humano\", \"in\\u00fatil\", \"librea\", \"fuente\", \"emprender\", \"exhibir\", \"hoy\", \"festival\", \"rascacielos\", \"recorrer\", \"mismo\", \"ah\\u00ed\", \"probablemente\", \"comer\", \"edificio\", \"estrenar\", \"edificar\", \"parir\", \"decir\", \"ser\", \"obedecer\", \"retratar\", \"edificaci\\u00f3n\", \"deshabitar\", \"tener\", \"haber\", \"\\r\\n\", \"reformar\", \"asir\", \"reflejo\", \"dentro\", \"dejar\", \"robot\", \"picar\", \"world\", \"olympiad\", \"jaula\", \"santo\", \"padua\", \"nacional\", \"chico\", \"antonio\", \"dise\\u00f1ar\", \"competici\\u00f3n\", \"ong\", \"libertar\", \"ib\\u00e9rico\", \"planeta\", \"informar\", \"hembra\", \"liberar\", \"oriental\", \"peligrar\", \"pa\\u00eds\", \"pardinus\", \"felino\", \"lince\", \"onu\", \"marchar\", \"nacido\", \"finca\", \"girona\", \"joven\", \"industrial\", \"lynx\", \"marqu\\u00e9s\", \"masivo\", \"almuradiel\", \"edici\\u00f3n\", \"estremecer\", \"cr\\u00edtico\", \"colaboraci\\u00f3n\", \"cautividad\", \"t\\u00e9rmino\", \"constatar\", \"capaz\", \"bello\", \"autonom\\u00eda\", \"educativo\", \"visar\", \"asociaci\\u00f3n\", \"situaci\\u00f3n\", \"serrar\", \"varios\", \"segundar\", \"conseguir\", \"tecnolog\\u00eda\", \"acercar\", \"seminario\", \"s\\u00e1bado\", \"septiembre\", \"final\", \"haza\\u00f1a\", \"seguimiento\", \"ampliar\", \"adolescente\", \"15\", \"12\", \"surgir\", \"az\", \"poner\", \"zait\", \"retar\", \"rob\\u00f3tico\", \"celebraci\\u00f3n\", \"certamen\", \"mismo\", \"clasificaci\\u00f3n\", \"visi\\u00f3n\", \"ser\", \"pasar\", \"tal\", \"entrar\", \"resolver\", \"participar\", \"problema\", \"haber\", \"\\r\\n\", \"colegiar\", \"regional\", \"ciencia\", \"ja\\u00e9n\", \"uni\\u00f3n\", \"crear\", \"pretender\", \"capacidad\", \"salir\", \"disparar\", \"a\\u00f1o\", \"tras\", \"europeo\", \"ayuntamiento\", \"pagar\", \"determinar\", \"sagrado\", \"bas\\u00edlico\", \"edificable\", \"establecer\", \"familia\", \"cuadrar\", \"templar\", \"permiso\", \"4,6\", \"licenciar\", \"sanz\", \"metro\", \"obrar\", \"instalaci\\u00f3n\", \"delimitar\", \"urbanismo\", \"terreno\", \"tasar\", \"soler\", \"hacendar\", \"janet\", \"interior\", \"principal\", \"mundo\", \"municipal\", \"comisi\\u00f3n\", \"ninguno\", \"orden\", \"paralelo\", \"m\\u00e1ximo\", \"mill\\u00f3n\", \"modernista\", \"legislatura\", \"junto\", \"objetivo\", \"comercial\", \"colocar\", \"altura\", \"visitable\", \"137\", \"parcelar\", \"piedra\", \"haber\", \"usar\", \"relevante\", \"teniente\", \"unir\", \"tener\", \"patronato\", \"\\r\\n\", \"imponer\", \"comer\", \"parir\", \"formar\", \"a\\u00f1o\", \"do\", \"tipo\", \"despu\\u00e9s\", \"centrar\", \"solo\", \"euro\", \"aceitar\", \"1.900\", \"tonelada\", \"lampante\", \"subir\", \"precio\", \"extra\", \"semana\", \"2.000\", \"olivar\", \"preciar\", \"frente\", \"anterior\", \"virgen\", \"indicar\", \"2.056\", \"75\", \"junio\", \"operaci\\u00f3n\", \"mesar\", \"origen\", \"italiano\", \"2.450\", \"poolred\", \"2.300\", \"2.150\", \"2.146\", \"activar\", \"50\", \"oleoestepa\", \"lonja\", \"pag\\u00e1ndose\", \"aumentar\", \"horquilla\", \"contexto\", \"generalizar\", \"cotizaci\\u00f3n\", \"fijar\", \"fundaci\\u00f3n\", \"demandar\", \"recoger\", \"seg\\u00fan\", \"1.800\", \"extremadura\", \"dar\", \"entrar\", \"1.869\", \"1.779\", \"registrar\", \"cerrar\", \"repetir\", \"1.875\", \"significativo\", \"1.850\", \"principalmente\", \"fuente\", \"respectar\", \"\\r\\n\", \"1.950\", \"2.020\", \"tras\", \"partir\", \"contar\", \"\\u00faltimo\", \"mercar\", \"tiempo\", \"mientras\", \"mediar\", \"quedar\", \"bajar\", \"mismo\", \"extremadura\", \"activar\", \"1.950\", \"recoger\", \"registrar\", \"repetir\", \"respectar\", \"aumentar\", \"seg\\u00fan\", \"75\", \"50\", \"2.450\", \"significativo\", \"2.300\", \"2.150\", \"2.146\", \"2.056\", \"principalmente\", \"poolred\", \"pag\\u00e1ndose\", \"italiano\", \"demandar\", \"fundaci\\u00f3n\", \"generalizar\", \"horquilla\", \"indicar\", \"dar\", \"cotizaci\\u00f3n\", \"origen\", \"junio\", \"lonja\", \"1.850\", \"1.869\", \"1.875\", \"mesar\", \"2.020\", \"operaci\\u00f3n\", \"oleoestepa\", \"contexto\", \"fijar\", \"1.800\", \"1.779\", \"comer\", \"tener\", \"ser\", \"espa\\u00f1a\", \"hacer\", \"ciudad\", \"pel\\u00edcula\", \"cualquiera\", \"empezar\", \"madrid\", \"hueco\", \"haber\", \"parir\", \"\\r\\n\", \"pasar\", \"reflejo\", \"cintar\", \"pesar\", \"tomar\", \"asir\", \"acabar\", \"formar\", \"dejar\", \"dentro\", \"mismo\", \"partir\", \"describir\", \"estrenar\", \"espaciar\", \"\\u00e9stey\"], \"Total\": [8.0, 4.0, 5.0, 6.0, 3.0, 14.0, 3.0, 3.0, 3.0, 5.0, 2.0, 2.0, 2.0, 18.0, 3.0, 2.0, 3.0, 2.0, 2.0, 2.0, 2.0, 12.0, 2.0, 2.0, 2.0, 4.0, 4.0, 3.0, 3.0, 4.0, 4.481727123260498, 4.4817280769348145, 3.691899538040161, 2.9020683765411377, 2.9020681381225586, 2.9020683765411377, 2.9020681381225586, 2.902068614959717, 2.9020683765411377, 2.9020683765411377, 4.994785308837891, 2.112236261367798, 2.1122357845306396, 2.1122360229492188, 2.1122357845306396, 2.1122360229492188, 2.1122357845306396, 2.1122360229492188, 2.1122360229492188, 2.1122357845306396, 2.112236261367798, 2.1122360229492188, 2.1122360229492188, 2.1122360229492188, 2.1122357845306396, 2.1122357845306396, 2.1122360229492188, 2.1122360229492188, 2.1122357845306396, 2.1122360229492188, 2.1122360229492188, 2.1122360229492188, 2.1122360229492188, 16.340322494506836, 4.341733932495117, 4.362784385681152, 11.861964225769043, 12.828670501708984, 2.112236261367798, 2.112236261367798, 3.57295298576355, 3.572953701019287, 18.42589569091797, 14.292953491210938, 6.093837261199951, 14.11638355255127, 2.112236261367798, 2.1122360229492188, 2.112236261367798, 2.1122360229492188, 2.112236261367798, 2.1122360229492188, 3.3512797355651855, 3.432955503463745, 2.6803956031799316, 2.6803948879241943, 2.6803951263427734, 3.216327428817749, 2.545397996902466, 2.545398235321045, 2.545398235321045, 2.545397996902466, 2.545398235321045, 2.545398473739624, 1.8744674921035767, 1.8744674921035767, 1.8744674921035767, 1.874467372894287, 1.8744676113128662, 1.874467372894287, 1.874467372894287, 1.874467372894287, 1.874467372894287, 1.874467372894287, 1.874467372894287, 1.874467372894287, 1.874467372894287, 1.874467372894287, 1.2035317420959473, 1.2035317420959473, 1.2035317420959473, 1.2035317420959473, 1.2035317420959473, 1.2035317420959473, 1.2035317420959473, 1.2035317420959473, 1.2035317420959473, 1.2035317420959473, 1.2035317420959473, 1.2035317420959473, 1.2035317420959473, 1.2035317420959473, 1.2035317420959473, 2.3875229358673096, 2.398655652999878, 2.442627429962158, 3.859327554702759, 3.9033002853393555, 14.11638355255127, 2.664212703704834, 18.42589569091797, 3.2323710918426514, 14.292953491210938, 11.861964225769043, 12.828670501708984, 4.1038899421691895, 2.48224139213562, 2.4822418689727783, 1.8323642015457153, 1.8323642015457153, 1.8323643207550049, 1.8323642015457153, 1.8323638439178467, 1.8323637247085571, 1.8323644399642944, 6.174098968505859, 3.8030002117156982, 5.123811721801758, 1.182482361793518, 1.182482361793518, 1.182482361793518, 1.182482361793518, 1.182482361793518, 1.1824824810028076, 1.182482361793518, 1.182482361793518, 1.1824824810028076, 1.182482361793518, 1.1824822425842285, 1.182482361793518, 1.1824822425842285, 1.182482361793518, 1.182482361793518, 1.182482361793518, 1.182482361793518, 1.182482361793518, 1.182482361793518, 1.1824822425842285, 1.182482361793518, 1.182482361793518, 1.182482361793518, 1.1824824810028076, 1.182482361793518, 1.1824824810028076, 1.182482361793518, 1.1824824810028076, 1.1824826002120972, 1.182482361793518, 1.182482361793518, 1.182482361793518, 1.182482361793518, 1.182482361793518, 1.1824822425842285, 1.1824822425842285, 2.3565523624420166, 1.182482361793518, 1.182482361793518, 1.182482361793518, 1.182482361793518, 1.182482361793518, 1.182482361793518, 1.1824822425842285, 1.182482361793518, 1.182482361793518, 3.9428679943084717, 4.061827182769775, 1.182482361793518, 2.6221086978912354, 1.182482361793518, 1.182482361793518, 1.1824824810028076, 1.182482361793518, 1.1824824810028076, 1.182482361793518, 1.182482361793518, 1.182482361793518, 1.182482361793518, 1.1824824810028076, 1.1824824810028076, 1.182482361793518, 4.408332824707031, 3.135162115097046, 1.182482361793518, 1.1824824810028076, 1.1824824810028076, 1.1824824810028076, 1.182482361793518, 3.6482393741607666, 1.1824824810028076, 1.182482361793518, 1.182482361793518, 1.1824824810028076, 1.1824824810028076, 1.1824822425842285, 4.271510601043701, 1.1824824810028076, 1.1824824810028076, 11.861964225769043, 1.182482361793518, 1.1824824810028076, 1.182482361793518, 16.340322494506836, 1.182482361793518, 18.42589569091797, 1.1824824810028076, 1.182482361793518, 1.182482361793518, 1.182482361793518, 12.828670501708984, 14.11638355255127, 14.292953491210938, 1.1824822425842285, 2.643111228942871, 1.972227692604065, 1.9722275733947754, 1.972227692604065, 2.237187623977661, 1.6689989566802979, 1.6689987182617188, 1.6689988374710083, 1.6689988374710083, 1.6689988374710083, 1.6689989566802979, 1.6689989566802979, 1.6689988374710083, 1.6689987182617188, 1.6689989566802979, 1.6689989566802979, 1.100806474685669, 1.1008065938949585, 1.100806474685669, 1.100806713104248, 1.1008065938949585, 1.100806474685669, 1.1008065938949585, 1.100806474685669, 1.100806474685669, 1.100806474685669, 1.100806713104248, 1.100806474685669, 1.100806474685669, 1.100806474685669, 1.100806474685669, 1.100806474685669, 1.100806474685669, 1.100806474685669, 1.100806474685669, 1.1008065938949585, 1.100806474685669, 1.100806474685669, 1.100806474685669, 1.100806474685669, 1.1008065938949585, 1.1008065938949585, 1.100806474685669, 1.100806474685669, 1.100806474685669, 1.100806474685669, 1.100806474685669, 1.1008065938949585, 1.100806713104248, 1.100806474685669, 1.100806474685669, 1.100806474685669, 1.100806474685669, 1.100806474685669, 1.100806474685669, 1.100806474685669, 1.1008065938949585, 2.9829275608062744, 1.1008065938949585, 1.100806474685669, 1.1008065938949585, 1.100806474685669, 1.100806474685669, 3.248584508895874, 1.1008065938949585, 1.1008065938949585, 1.1008065938949585, 1.1008065938949585, 1.1008065938949585, 1.100806474685669, 1.1008065938949585, 1.1008065938949585, 3.653810977935791, 1.1008065938949585, 1.1008065938949585, 1.100806713104248, 1.1008065938949585, 1.1008065938949585, 4.271510601043701, 1.1008065938949585, 1.1008065938949585, 18.42589569091797, 4.408332824707031, 1.100806713104248, 5.694967269897461, 1.1008065938949585, 1.1008065938949585, 1.100806713104248, 14.11638355255127, 14.292953491210938, 1.1008065938949585, 1.1008065938949585, 1.1008065938949585, 1.1008065938949585, 1.8905513286590576, 1.8905519247055054, 1.890552043914795, 1.8905519247055054, 1.8905519247055054, 1.8905519247055054, 3.0856194496154785, 3.053436756134033, 1.7506412267684937, 2.6294758319854736, 2.1052639484405518, 2.1052637100219727, 1.5810511112213135, 1.5810511112213135, 1.5810511112213135, 1.5810511112213135, 1.581050992012024, 1.5810511112213135, 1.5810511112213135, 1.5810511112213135, 1.581051230430603, 1.5810511112213135, 1.581051230430603, 3.300354242324829, 2.776144504547119, 1.056835651397705, 1.0568355321884155, 1.0568355321884155, 1.0568355321884155, 1.0568355321884155, 1.0568355321884155, 1.056835651397705, 1.0568355321884155, 1.0568355321884155, 1.056835651397705, 1.056835651397705, 1.0568355321884155, 1.0568355321884155, 1.056835651397705, 1.0568355321884155, 1.0568355321884155, 1.0568355321884155, 2.1492087841033936, 1.056835651397705, 1.056835651397705, 1.056835651397705, 1.056835651397705, 1.0568355321884155, 1.056835651397705, 1.0568355321884155, 1.056835651397705, 1.0568355321884155, 1.056835651397705, 1.056835651397705, 14.11638355255127, 3.1606359481811523, 1.056835651397705, 1.056835651397705, 1.056835651397705, 12.828670501708984, 1.056835651397705, 14.292953491210938, 1.056835651397705, 11.861964225769043, 16.340322494506836, 3.735455274581909, 3.0856194496154785, 2.414738416671753, 3.3073060512542725, 2.4964139461517334, 2.3775534629821777, 1.846580147743225, 8.239907264709473, 3.098019599914551, 2.5849416255950928, 2.5849416255950928, 2.0718631744384766, 2.0718631744384766, 2.0718631744384766, 2.0718631744384766, 4.179251670837402, 1.5587842464447021, 1.5587843656539917, 1.5587843656539917, 1.5587843656539917, 3.7478487491607666, 3.234771728515625, 1.0457028150558472, 1.0457028150558472, 1.0457028150558472, 1.0457028150558472, 1.0457028150558472, 1.0457028150558472, 1.0457028150558472, 1.0457028150558472, 1.0457028150558472, 1.0457028150558472, 1.0457028150558472, 1.0457028150558472, 1.0457028150558472, 1.0457028150558472, 1.0457028150558472, 1.0457028150558472, 1.0457028150558472, 1.0457028150558472, 1.0457028150558472, 1.0457028150558472, 1.0457028150558472, 1.0457028150558472, 1.0457028150558472, 1.0457028150558472, 1.0457028150558472, 1.0457028150558472, 1.0457028150558472, 1.0457028150558472, 1.0457028150558472, 1.0457026958465576, 1.0457028150558472, 5.694967269897461, 1.0457028150558472, 1.0457028150558472, 1.0457028150558472, 2.208616018295288, 1.0457028150558472, 1.0457028150558472, 1.0457028150558472, 1.0457028150558472, 1.0457028150558472, 3.6482393741607666, 1.0457028150558472, 14.292953491210938, 1.0457028150558472, 1.0457028150558472, 3.053436756134033, 6.093837261199951, 2.485280990600586, 2.263695478439331, 1.835447072982788, 3.135162115097046, 1.8354474306106567, 1.613861322402954, 2.6252896785736084, 2.625290632247925, 4.271510601043701, 1.0457026958465576, 1.0457028150558472, 1.0457028150558472, 1.0457028150558472, 1.0457028150558472, 1.0457028150558472, 1.0457028150558472, 1.0457028150558472, 1.0457028150558472, 1.0457028150558472, 1.0457028150558472, 1.0457028150558472, 1.0457028150558472, 1.0457028150558472, 1.0457028150558472, 1.0457028150558472, 1.0457028150558472, 1.0457028150558472, 1.0457028150558472, 1.0457028150558472, 1.0457028150558472, 1.0457028150558472, 1.0457028150558472, 1.0457028150558472, 1.0457028150558472, 1.0457028150558472, 1.0457028150558472, 1.0457028150558472, 1.0457028150558472, 1.0457028150558472, 1.0457028150558472, 1.0457028150558472, 1.0457028150558472, 1.0457028150558472, 1.0457028150558472, 1.0457028150558472, 1.0457028150558472, 1.0457028150558472, 1.0457028150558472, 1.0457028150558472, 1.0457028150558472, 1.0457028150558472, 11.861964225769043, 12.828670501708984, 18.42589569091797, 3.8030002117156982, 4.341733932495117, 6.174098968505859, 2.48224139213562, 2.6221086978912354, 4.1038899421691895, 5.123811721801758, 1.8323637247085571, 14.11638355255127, 16.340322494506836, 14.292953491210938, 4.408332824707031, 1.972227692604065, 1.8323638439178467, 1.9722280502319336, 1.9722281694412231, 2.643111228942871, 2.3565523624420166, 3.735455274581909, 1.972227692604065, 1.9722275733947754, 4.271510601043701, 6.093837261199951, 1.8533663749694824, 1.1824824810028076, 1.706669807434082, 1.1824822425842285], \"loglift\": [30.0, 29.0, 28.0, 27.0, 26.0, 25.0, 24.0, 23.0, 22.0, 21.0, 20.0, 19.0, 18.0, 17.0, 16.0, 15.0, 14.0, 13.0, 12.0, 11.0, 10.0, 9.0, 8.0, 7.0, 6.0, 5.0, 4.0, 3.0, 2.0, 1.0, 0.9814000129699707, 0.9814000129699707, 0.9589999914169312, 0.9235000014305115, 0.9235000014305115, 0.9235000014305115, 0.9235000014305115, 0.9235000014305115, 0.9235000014305115, 0.9235000014305115, 0.8730000257492065, 0.8582000136375427, 0.8582000136375427, 0.8582000136375427, 0.8582000136375427, 0.8582000136375427, 0.8582000136375427, 0.8582000136375427, 0.8582000136375427, 0.8582000136375427, 0.8582000136375427, 0.8582000136375427, 0.8582000136375427, 0.8582000136375427, 0.8582000136375427, 0.8582000136375427, 0.8582000136375427, 0.8582000136375427, 0.8582000136375427, 0.8582000136375427, 0.8582000136375427, 0.8582000136375427, 0.8582000136375427, 0.699400007724762, 0.7968999743461609, 0.7921000123023987, 0.4675999879837036, 0.38929998874664307, 0.8582000136375427, 0.8582000136375427, 0.715499997138977, 0.715499997138977, 0.14300000667572021, 0.1500999927520752, 0.4578999876976013, -0.3822000026702881, 0.8582000136375427, 0.8582000136375427, 0.8582000136375427, 0.8582000136375427, 0.8582000136375427, 0.8582000136375427, 0.39660000801086426, 0.3725000023841858, 0.6198999881744385, 0.6198999881744385, 0.6198999881744385, 1.5529999732971191, 1.510699987411499, 1.510699987411499, 1.510699987411499, 1.510699987411499, 1.510699987411499, 1.510699987411499, 1.4335999488830566, 1.4335999488830566, 1.4335999488830566, 1.4335999488830566, 1.4335999488830566, 1.4335999488830566, 1.4335999488830566, 1.4335999488830566, 1.4335999488830566, 1.4335999488830566, 1.4335999488830566, 1.4335999488830566, 1.4335999488830566, 1.4335999488830566, 1.2481000423431396, 1.2481000423431396, 1.2481000423431396, 1.2481000423431396, 1.2481000423431396, 1.2481000423431396, 1.2481000423431396, 1.2481000423431396, 1.2481000423431396, 1.2481000423431396, 1.2481000423431396, 1.2481000423431396, 1.2481000423431396, 1.2481000423431396, 1.2481000423431396, 1.1916999816894531, 1.1871000528335571, 1.1689000129699707, 1.094499945640564, 1.0831999778747559, 0.7497000098228455, 1.0821000337600708, 0.5990999937057495, 0.8888000249862671, 0.061500001698732376, -0.0284000001847744, -0.10670000314712524, 0.6499999761581421, 1.5978000164031982, 1.5978000164031982, 1.518399953842163, 1.518399953842163, 1.518399953842163, 1.518399953842163, 1.518399953842163, 1.518399953842163, 1.518399953842163, 1.507599949836731, 1.4474999904632568, 1.3655999898910522, 1.3277000188827515, 1.3277000188827515, 1.3277000188827515, 1.3277000188827515, 1.3277000188827515, 1.3277000188827515, 1.3277000188827515, 1.3277000188827515, 1.3277000188827515, 1.3277000188827515, 1.3277000188827515, 1.3277000188827515, 1.3277000188827515, 1.3277000188827515, 1.3277000188827515, 1.3277000188827515, 1.3277000188827515, 1.3277000188827515, 1.3277000188827515, 1.3277000188827515, 1.3277000188827515, 1.3277000188827515, 1.3277000188827515, 1.3277000188827515, 1.3277000188827515, 1.3277000188827515, 1.3277000188827515, 1.3277000188827515, 1.3277000188827515, 1.3277000188827515, 1.3277000188827515, 1.3277000188827515, 1.3277000188827515, 1.3277000188827515, 1.3277000188827515, 1.3277000188827515, 1.266800045967102, 1.3277000188827515, 1.3277000188827515, 1.3277000188827515, 1.3277000188827515, 1.3277000188827515, 1.3277000188827515, 1.3277000188827515, 1.3277000188827515, 1.3277000188827515, 1.13510000705719, 1.1053999662399292, 1.3277000188827515, 1.159999966621399, 1.3277000188827515, 1.3277000188827515, 1.3277000188827515, 1.3277000188827515, 1.3277000188827515, 1.3277000188827515, 1.3277000188827515, 1.3277000188827515, 1.3277000188827515, 1.3277000188827515, 1.3277000188827515, 1.3277000188827515, 1.0234999656677246, 0.9812999963760376, 1.3277000188827515, 1.3277000188827515, 1.3277000188827515, 1.3277000188827515, 1.3277000188827515, 0.829800009727478, 1.3277000188827515, 1.3277000188827515, 1.3277000188827515, 1.3277000188827515, 1.3277000188827515, 1.3277000188827515, 0.671999990940094, 1.3277000188827515, 1.3277000188827515, 0.03370000049471855, 1.3277000188827515, 1.3277000188827515, 1.3277000188827515, -0.2865999937057495, 1.3277000188827515, -0.4068000018596649, 1.3277000188827515, 1.3277000188827515, 1.3277000188827515, 1.3277000188827515, -0.427700012922287, -0.5234000086784363, -0.5357999801635742, 1.3277000188827515, 0.5234000086784363, 0.8162000179290771, 0.8162000179290771, 0.8162000179290771, 1.9114999771118164, 1.8214999437332153, 1.8214999437332153, 1.8214999437332153, 1.8214999437332153, 1.8214999437332153, 1.8214999437332153, 1.8214999437332153, 1.8214999437332153, 1.8214999437332153, 1.8214999437332153, 1.8214999437332153, 1.6089999675750732, 1.6089999675750732, 1.6089999675750732, 1.6089999675750732, 1.6089999675750732, 1.6089999675750732, 1.6089999675750732, 1.6089999675750732, 1.6089999675750732, 1.6089999675750732, 1.6089999675750732, 1.6089999675750732, 1.6089999675750732, 1.6089999675750732, 1.6089999675750732, 1.6089999675750732, 1.6089999675750732, 1.6089999675750732, 1.6089999675750732, 1.6089999675750732, 1.6089999675750732, 1.6089999675750732, 1.6089999675750732, 1.6089999675750732, 1.6089999675750732, 1.6089999675750732, 1.6089999675750732, 1.6089999675750732, 1.6089999675750732, 1.6089999675750732, 1.6089999675750732, 1.6089999675750732, 1.6089999675750732, 1.6089999675750732, 1.6089999675750732, 1.6089999675750732, 1.6089999675750732, 1.6089999675750732, 1.6089999675750732, 1.6089999675750732, 1.6089999675750732, 1.2408000230789185, 1.6089999675750732, 1.6089999675750732, 1.6089999675750732, 1.6089999675750732, 1.6089999675750732, 1.155500054359436, 1.6089999675750732, 1.6089999675750732, 1.6089999675750732, 1.6089999675750732, 1.6089999675750732, 1.6089999675750732, 1.6089999675750732, 1.6089999675750732, 1.0379999876022339, 1.6089999675750732, 1.6089999675750732, 1.6089999675750732, 1.6089999675750732, 1.6089999675750732, 0.8817999958992004, 1.6089999675750732, 1.6089999675750732, 0.07919999957084656, 0.8501999974250793, 1.6089999675750732, 0.5940999984741211, 1.6089999675750732, 1.6089999675750732, 1.6089999675750732, -0.31369999051094055, -0.3260999917984009, 1.6089999675750732, 1.6089999675750732, 1.6089999675750732, 1.6089999675750732, 1.0681999921798706, 1.0681999921798706, 1.0681999921798706, 1.0681999921798706, 1.0681999921798706, 1.0681999921798706, 0.5782999992370605, 0.5888000130653381, 1.1450999975204468, 2.13100004196167, 2.0771000385284424, 2.0771000385284424, 1.9803999662399292, 1.9803999662399292, 1.9803999662399292, 1.9803999662399292, 1.9803999662399292, 1.9803999662399292, 1.9803999662399292, 1.9803999662399292, 1.9803999662399292, 1.9803999662399292, 1.9803999662399292, 1.9038000106811523, 1.8005000352859497, 1.7546000480651855, 1.7546000480651855, 1.7546000480651855, 1.7546000480651855, 1.7546000480651855, 1.7546000480651855, 1.7546000480651855, 1.7546000480651855, 1.7546000480651855, 1.7546000480651855, 1.7546000480651855, 1.7546000480651855, 1.7546000480651855, 1.7546000480651855, 1.7546000480651855, 1.7546000480651855, 1.7546000480651855, 1.6734000444412231, 1.7546000480651855, 1.7546000480651855, 1.7546000480651855, 1.7546000480651855, 1.7546000480651855, 1.7546000480651855, 1.7546000480651855, 1.7546000480651855, 1.7546000480651855, 1.7546000480651855, 1.7546000480651855, 0.666700005531311, 1.2877999544143677, 1.7546000480651855, 1.7546000480651855, 1.7546000480651855, 0.5461000204086304, 1.7546000480651855, 0.16179999709129333, 1.7546000480651855, -0.03480000048875809, -0.35510000586509705, 0.492000013589859, 0.6832000017166138, 0.9283000230789185, 0.6137999892234802, 0.8949999809265137, 0.9437999725341797, 1.1965999603271484, 2.239799976348877, 2.206399917602539, 2.1712000370025635, 2.1712000370025635, 2.1161999702453613, 2.1161999702453613, 2.1161999702453613, 2.1161999702453613, 2.084700107574463, 2.017699956893921, 2.017699956893921, 2.017699956893921, 2.017699956893921, 2.0160000324249268, 1.9470000267028809, 1.7883000373840332, 1.7883000373840332, 1.7883000373840332, 1.7883000373840332, 1.7883000373840332, 1.7883000373840332, 1.7883000373840332, 1.7883000373840332, 1.7883000373840332, 1.7883000373840332, 1.7883000373840332, 1.7883000373840332, 1.7883000373840332, 1.7883000373840332, 1.7883000373840332, 1.7883000373840332, 1.7883000373840332, 1.7883000373840332, 1.7883000373840332, 1.7883000373840332, 1.7883000373840332, 1.7883000373840332, 1.7883000373840332, 1.7883000373840332, 1.7883000373840332, 1.7883000373840332, 1.7883000373840332, 1.7883000373840332, 1.7883000373840332, 1.7883000373840332, 1.7883000373840332, 1.597599983215332, 1.7883000373840332, 1.7883000373840332, 1.7883000373840332, 1.6692999601364136, 1.7883000373840332, 1.7883000373840332, 1.7883000373840332, 1.7883000373840332, 1.7883000373840332, 1.1674000024795532, 1.7883000373840332, 0.18490000069141388, 1.7883000373840332, 1.7883000373840332, 0.7167999744415283, 0.025800000876188278, 0.9225999712944031, 1.0160000324249268, 1.2257000207901, 0.6902999877929688, 1.2257000207901, 1.3544000387191772, 0.8677999973297119, 0.8677999973297119, 0.38109999895095825, 0.42399999499320984, 0.42399999499320984, 0.42399999499320984, 0.42399999499320984, 0.42399999499320984, 0.42399999499320984, 0.42399999499320984, 0.42399999499320984, 0.42399999499320984, 0.42399999499320984, 0.42399999499320984, 0.42399999499320984, 0.42399999499320984, 0.42399999499320984, 0.42399999499320984, 0.42399999499320984, 0.42399999499320984, 0.42399999499320984, 0.42399999499320984, 0.42399999499320984, 0.42399999499320984, 0.42399999499320984, 0.42399999499320984, 0.42399999499320984, 0.42399999499320984, 0.42399999499320984, 0.42399999499320984, 0.42399999499320984, 0.42399999499320984, 0.42399999499320984, 0.42399999499320984, 0.42399999499320984, 0.42399999499320984, 0.42399999499320984, 0.42399999499320984, 0.42399999499320984, 0.42399999499320984, 0.42399999499320984, 0.42399999499320984, 0.42399999499320984, 0.42399999499320984, 0.42399999499320984, -2.0046000480651855, -2.082900047302246, -2.444999933242798, -0.8671000003814697, -0.9994999766349792, -1.3516000509262085, -0.44040000438690186, -0.4952999949455261, -0.9431999921798706, -1.1651999950408936, -0.13689999282360077, -2.1786000728607178, -2.324899911880493, -2.190999984741211, -1.014799952507019, -0.21040000021457672, -0.13689999282360077, -0.21040000021457672, -0.21040000021457672, -0.5031999945640564, -0.38850000500679016, -0.8490999937057495, -0.21040000021457672, -0.21040000021457672, -0.9832000136375427, -1.3386000394821167, -0.14830000698566437, 0.3010999858379364, -0.0658000037074089, 0.3010999858379364], \"logprob\": [30.0, 29.0, 28.0, 27.0, 26.0, 25.0, 24.0, 23.0, 22.0, 21.0, 20.0, 19.0, 18.0, 17.0, 16.0, 15.0, 14.0, 13.0, 12.0, 11.0, 10.0, 9.0, 8.0, 7.0, 6.0, 5.0, 4.0, 3.0, 2.0, 1.0, -4.764999866485596, -4.764999866485596, -4.981200218200684, -5.257500171661377, -5.257500171661377, -5.257500171661377, -5.257500171661377, -5.257500171661377, -5.257500171661377, -5.257500171661377, -4.764999866485596, -5.640500068664551, -5.640500068664551, -5.640500068664551, -5.640500068664551, -5.640500068664551, -5.640500068664551, -5.640500068664551, -5.640500068664551, -5.640500068664551, -5.640500068664551, -5.640500068664551, -5.640500068664551, -5.640500068664551, -5.640500068664551, -5.640500068664551, -5.640500068664551, -5.640500068664551, -5.640500068664551, -5.640500068664551, -5.640500068664551, -5.640500068664551, -5.640500068664551, -3.7532999515533447, -4.981200218200684, -4.981200218200684, -4.3053998947143555, -4.3053998947143555, -5.640500068664551, -5.640500068664551, -5.257500171661377, -5.257500171661377, -4.189599990844727, -4.436500072479248, -4.981200218200684, -4.981200218200684, -5.640500068664551, -5.640500068664551, -5.640500068664551, -5.640500068664551, -5.640500068664551, -5.640500068664551, -5.640500068664551, -5.640500068664551, -5.640500068664551, -5.640500068664551, -5.640500068664551, -4.525100231170654, -4.801400184631348, -4.801400184631348, -4.801400184631348, -4.801400184631348, -4.801400184631348, -4.801400184631348, -5.1844000816345215, -5.1844000816345215, -5.1844000816345215, -5.1844000816345215, -5.1844000816345215, -5.1844000816345215, -5.1844000816345215, -5.1844000816345215, -5.1844000816345215, -5.1844000816345215, -5.1844000816345215, -5.1844000816345215, -5.1844000816345215, -5.1844000816345215, -5.813000202178955, -5.813000202178955, -5.813000202178955, -5.813000202178955, -5.813000202178955, -5.813000202178955, -5.813000202178955, -5.813000202178955, -5.813000202178955, -5.813000202178955, -5.813000202178955, -5.813000202178955, -5.813000202178955, -5.813000202178955, -5.813000202178955, -5.1844000816345215, -5.1844000816345215, -5.1844000816345215, -4.801400184631348, -4.801400184631348, -3.849400043487549, -5.1844000816345215, -3.7335000038146973, -5.1844000816345215, -4.525100231170654, -4.801400184631348, -4.801400184631348, -5.1844000816345215, -4.7393999099731445, -4.7393999099731445, -5.122399806976318, -5.122399806976318, -5.122399806976318, -5.122399806976318, -5.122399806976318, -5.122399806976318, -5.122399806976318, -3.9184000492095947, -4.463099956512451, -4.2469000816345215, -5.750999927520752, -5.750999927520752, -5.750999927520752, -5.750999927520752, -5.750999927520752, -5.750999927520752, -5.750999927520752, -5.750999927520752, -5.750999927520752, -5.750999927520752, -5.750999927520752, -5.750999927520752, -5.750999927520752, -5.750999927520752, -5.750999927520752, -5.750999927520752, -5.750999927520752, -5.750999927520752, -5.750999927520752, -5.750999927520752, -5.750999927520752, -5.750999927520752, -5.750999927520752, -5.750999927520752, -5.750999927520752, -5.750999927520752, -5.750999927520752, -5.750999927520752, -5.750999927520752, -5.750999927520752, -5.750999927520752, -5.750999927520752, -5.750999927520752, -5.750999927520752, -5.750999927520752, -5.750999927520752, -5.122399806976318, -5.750999927520752, -5.750999927520752, -5.750999927520752, -5.750999927520752, -5.750999927520752, -5.750999927520752, -5.750999927520752, -5.750999927520752, -5.750999927520752, -4.7393999099731445, -4.7393999099731445, -5.750999927520752, -5.122399806976318, -5.750999927520752, -5.750999927520752, -5.750999927520752, -5.750999927520752, -5.750999927520752, -5.750999927520752, -5.750999927520752, -5.750999927520752, -5.750999927520752, -5.750999927520752, -5.750999927520752, -5.750999927520752, -4.7393999099731445, -5.122399806976318, -5.750999927520752, -5.750999927520752, -5.750999927520752, -5.750999927520752, -5.750999927520752, -5.122399806976318, -5.750999927520752, -5.750999927520752, -5.750999927520752, -5.750999927520752, -5.750999927520752, -5.750999927520752, -5.122399806976318, -5.750999927520752, -5.750999927520752, -4.7393999099731445, -5.750999927520752, -5.750999927520752, -5.750999927520752, -4.7393999099731445, -5.750999927520752, -4.7393999099731445, -5.750999927520752, -5.750999927520752, -5.750999927520752, -5.750999927520752, -5.122399806976318, -5.122399806976318, -5.122399806976318, -5.750999927520752, -5.750999927520752, -5.750999927520752, -5.750999927520752, -5.750999927520752, -4.529699802398682, -4.912600040435791, -4.912600040435791, -4.912600040435791, -4.912600040435791, -4.912600040435791, -4.912600040435791, -4.912600040435791, -4.912600040435791, -4.912600040435791, -4.912600040435791, -4.912600040435791, -5.541299819946289, -5.541299819946289, -5.541299819946289, -5.541299819946289, -5.541299819946289, -5.541299819946289, -5.541299819946289, -5.541299819946289, -5.541299819946289, -5.541299819946289, -5.541299819946289, -5.541299819946289, -5.541299819946289, -5.541299819946289, -5.541299819946289, -5.541299819946289, -5.541299819946289, -5.541299819946289, -5.541299819946289, -5.541299819946289, -5.541299819946289, -5.541299819946289, -5.541299819946289, -5.541299819946289, -5.541299819946289, -5.541299819946289, -5.541299819946289, -5.541299819946289, -5.541299819946289, -5.541299819946289, -5.541299819946289, -5.541299819946289, -5.541299819946289, -5.541299819946289, -5.541299819946289, -5.541299819946289, -5.541299819946289, -5.541299819946289, -5.541299819946289, -5.541299819946289, -5.541299819946289, -4.912600040435791, -5.541299819946289, -5.541299819946289, -5.541299819946289, -5.541299819946289, -5.541299819946289, -4.912600040435791, -5.541299819946289, -5.541299819946289, -5.541299819946289, -5.541299819946289, -5.541299819946289, -5.541299819946289, -5.541299819946289, -5.541299819946289, -4.912600040435791, -5.541299819946289, -5.541299819946289, -5.541299819946289, -5.541299819946289, -5.541299819946289, -4.912600040435791, -5.541299819946289, -5.541299819946289, -4.253399848937988, -4.912600040435791, -5.541299819946289, -4.912700176239014, -5.541299819946289, -5.541299819946289, -5.541299819946289, -4.912700176239014, -4.912700176239014, -5.541299819946289, -5.541299819946289, -5.541299819946289, -5.541299819946289, -5.541299819946289, -5.541299819946289, -5.541299819946289, -5.541299819946289, -5.541299819946289, -5.541299819946289, -5.541299819946289, -5.541299819946289, -5.541299819946289, -4.148600101470947, -4.424799919128418, -4.424799919128418, -4.807799816131592, -4.807799816131592, -4.807799816131592, -4.807799816131592, -4.807799816131592, -4.807799816131592, -4.807799816131592, -4.807799816131592, -4.807799816131592, -4.807799816131592, -4.807799816131592, -4.148600101470947, -4.424799919128418, -5.436500072479248, -5.436500072479248, -5.436500072479248, -5.436500072479248, -5.436500072479248, -5.436500072479248, -5.436500072479248, -5.436500072479248, -5.436500072479248, -5.436500072479248, -5.436500072479248, -5.436500072479248, -5.436500072479248, -5.436500072479248, -5.436500072479248, -5.436500072479248, -5.436500072479248, -4.807799816131592, -5.436500072479248, -5.436500072479248, -5.436500072479248, -5.436500072479248, -5.436500072479248, -5.436500072479248, -5.436500072479248, -5.436500072479248, -5.436500072479248, -5.436500072479248, -5.436500072479248, -3.932300090789795, -4.807799816131592, -5.436500072479248, -5.436500072479248, -5.436500072479248, -4.148600101470947, -5.436500072479248, -4.424799919128418, -5.436500072479248, -4.807799816131592, -4.807799816131592, -5.436500072479248, -5.436500072479248, -5.436500072479248, -5.436500072479248, -5.436500072479248, -5.436500072479248, -5.436500072479248, -2.897599935531616, -3.9091999530792236, -4.125500202178955, -4.125500202178955, -4.401700019836426, -4.401700019836426, -4.401700019836426, -4.401700019836426, -3.7314999103546143, -4.7846999168396, -4.7846999168396, -4.7846999168396, -4.7846999168396, -3.9091999530792236, -4.125500202178955, -5.413300037384033, -5.413300037384033, -5.413300037384033, -5.413300037384033, -5.413300037384033, -5.413300037384033, -5.413300037384033, -5.413300037384033, -5.413300037384033, -5.413300037384033, -5.413300037384033, -5.413300037384033, -5.413300037384033, -5.413300037384033, -5.413300037384033, -5.413300037384033, -5.413300037384033, -5.413300037384033, -5.413300037384033, -5.413300037384033, -5.413300037384033, -5.413300037384033, -5.413300037384033, -5.413300037384033, -5.413300037384033, -5.413300037384033, -5.413300037384033, -5.413300037384033, -5.413300037384033, -5.413300037384033, -5.413300037384033, -3.9091999530792236, -5.413300037384033, -5.413300037384033, -5.413300037384033, -4.7846999168396, -5.413300037384033, -5.413300037384033, -5.413300037384033, -5.413300037384033, -5.413300037384033, -4.7846999168396, -5.413300037384033, -4.401700019836426, -5.413300037384033, -5.413300037384033, -5.413300037384033, -5.413300037384033, -5.413300037384033, -5.413300037384033, -5.413300037384033, -5.413300037384033, -5.413300037384033, -5.413300037384033, -5.413300037384033, -5.413300037384033, -5.413300037384033, -6.777599811553955, -6.777599811553955, -6.777599811553955, -6.777599811553955, -6.777599811553955, -6.777599811553955, -6.777599811553955, -6.777599811553955, -6.777599811553955, -6.777599811553955, -6.777599811553955, -6.777599811553955, -6.777599811553955, -6.777599811553955, -6.777599811553955, -6.777599811553955, -6.777599811553955, -6.777599811553955, -6.777599811553955, -6.777599811553955, -6.777599811553955, -6.777599811553955, -6.777599811553955, -6.777599811553955, -6.777599811553955, -6.777599811553955, -6.777599811553955, -6.777599811553955, -6.777599811553955, -6.777599811553955, -6.777599811553955, -6.777599811553955, -6.777599811553955, -6.777599811553955, -6.777599811553955, -6.777599811553955, -6.777599811553955, -6.777599811553955, -6.777599811553955, -6.777599811553955, -6.777599811553955, -6.777599811553955, -6.777599811553955, -6.777599811553955, -6.777599811553955, -6.777599811553955, -6.777599811553955, -6.777599811553955, -6.777599811553955, -6.777599811553955, -6.777599811553955, -6.777599811553955, -6.777599811553955, -6.777599811553955, -6.777599811553955, -6.777599811553955, -6.777599811553955, -6.777599811553955, -6.777599811553955, -6.777599811553955, -6.777599811553955, -6.777599811553955, -6.777599811553955, -6.777599811553955, -6.777599811553955, -6.777599811553955, -6.777599811553955, -6.777599811553955, -6.777599811553955, -6.777599811553955, -6.777599811553955, -6.777599811553955]}, \"token.table\": {\"Topic\": [1, 2, 3, 4, 5, 6, 2, 6, 6, 6, 6, 6, 6, 6, 4, 5, 4, 6, 6, 6, 6, 6, 6, 6, 2, 5, 6, 6, 1, 2, 3, 5, 6, 4, 6, 3, 1, 2, 4, 4, 3, 3, 3, 2, 1, 3, 4, 5, 4, 3, 6, 4, 1, 1, 1, 2, 3, 4, 3, 3, 6, 4, 5, 4, 1, 2, 4, 5, 1, 6, 1, 5, 2, 4, 2, 3, 2, 3, 3, 2, 1, 4, 4, 3, 3, 4, 4, 1, 2, 3, 5, 3, 6, 4, 4, 4, 2, 3, 2, 6, 3, 4, 5, 4, 2, 4, 4, 5, 1, 2, 3, 5, 5, 5, 4, 3, 1, 4, 5, 4, 1, 1, 3, 6, 6, 3, 2, 6, 1, 1, 4, 4, 5, 1, 3, 6, 3, 1, 3, 5, 6, 1, 3, 1, 1, 2, 3, 3, 1, 3, 5, 5, 1, 4, 1, 4, 1, 4, 5, 1, 4, 5, 3, 3, 3, 4, 1, 1, 2, 3, 3, 3, 1, 2, 1, 2, 4, 6, 3, 5, 2, 3, 1, 2, 4, 3, 1, 2, 3, 5, 3, 4, 3, 5, 6, 3, 4, 3, 2, 3, 1, 4, 6, 6, 5, 4, 3, 3, 2, 3, 6, 1, 1, 4, 1, 4, 1, 2, 3, 4, 5, 2, 6, 1, 3, 6, 6, 2, 1, 6, 3, 4, 3, 1, 2, 5, 1, 2, 2, 1, 2, 3, 4, 5, 3, 5, 1, 3, 2, 4, 4, 3, 3, 6, 3, 3, 3, 4, 3, 5, 6, 4, 4, 3, 1, 3, 5, 5, 3, 3, 3, 1, 1, 1, 2, 6, 5, 4, 4, 4, 2, 2, 6, 5, 1, 6, 2, 2, 5, 4, 4, 3, 5, 4, 1, 1, 2, 3, 1, 4, 6, 4, 3, 1, 2, 3, 2, 2, 3, 4, 2, 4, 4, 4, 6, 1, 1, 6, 6, 2, 5, 3, 1, 6, 1, 4, 5, 1, 3, 4, 6, 3, 5, 3, 3, 5, 5, 3, 5, 4, 4, 1, 5, 2, 1, 1, 1, 3, 1, 2, 3, 1, 2, 4, 5, 2, 5, 3, 1, 6, 6, 4, 4, 4, 6, 1, 5, 1, 4, 6, 4, 5, 6, 3, 3, 5, 5, 4, 3, 1, 2, 3, 4, 5, 6, 4, 1, 2, 3, 4, 6, 1, 3, 4, 5, 4, 4, 3, 3, 5, 1, 3, 4, 5, 4, 3, 1, 2, 5, 3, 2, 1, 2, 1, 2, 4, 5, 6, 3, 2, 3, 6, 6, 3, 1, 4, 5, 6, 3, 4, 2, 1, 2, 2, 1, 4, 3, 2, 3, 2, 4, 1, 6, 3, 1, 1, 3, 6, 3, 3, 1, 3, 3, 4, 6, 5, 6, 4, 6, 4, 3, 4, 4, 3, 5, 1, 4, 4, 5, 4, 4, 6, 4, 6, 4, 4, 1, 2, 3, 4, 5, 4, 3, 6, 3, 3, 1, 6, 3, 4, 5, 1, 5, 3, 6, 3, 4, 4, 2, 1, 4, 5, 4, 5, 1, 2, 3, 4, 5, 5, 5, 1, 3, 6, 1, 2, 5, 1, 3, 6, 3, 1, 1, 3, 4, 6, 2, 4, 5, 1, 4, 5, 1, 5, 1, 3, 3, 4, 1, 3, 3, 6, 4, 5, 4, 3, 3, 4, 4, 1, 2, 3, 2, 3, 3, 4, 6, 3], \"Freq\": [0.41978728771209717, 0.20989364385604858, 0.06996454298496246, 0.06996454298496246, 0.13992908596992493, 0.13992908596992493, 0.7857317328453064, 0.9562946557998657, 0.9562946557998657, 0.9562946557998657, 0.9562946557998657, 0.9562946557998657, 0.7737118601799011, 0.9562946557998657, 0.9084249138832092, 0.9462210536003113, 0.9084247946739197, 0.6415256261825562, 0.9562946557998657, 0.9562946557998657, 0.9562946557998657, 0.9562946557998657, 0.9562946557998657, 0.9562946557998657, 0.5334848761558533, 0.6324905753135681, 0.9562946557998657, 0.9562946557998657, 0.5597610473632812, 0.2798805236816406, 0.42434874176979065, 0.42434874176979065, 0.9683605432510376, 0.9084249138832092, 0.9562946557998657, 0.8456785678863525, 0.5967869758605957, 0.29839348793029785, 0.29839348793029785, 0.9084247946739197, 0.8456785678863525, 0.8456785082817078, 0.8456785678863525, 0.5334848761558533, 0.9468637704849243, 0.8456785678863525, 0.9084249138832092, 0.9462210536003113, 0.9084247946739197, 0.2668197453022003, 0.8004592061042786, 0.5991616249084473, 0.892512857913971, 0.9468638896942139, 0.37834200263023376, 0.37834200263023376, 0.37834200263023376, 0.9084249138832092, 0.8456785678863525, 0.8456785678863525, 0.9562946557998657, 0.9084249138832092, 0.7606078386306763, 0.9084247946739197, 0.3240840435028076, 0.3240840435028076, 0.3240840435028076, 0.3240840435028076, 0.7618204355239868, 0.3809102177619934, 0.9468637704849243, 0.6324906349182129, 0.5334848761558533, 0.9084246754646301, 0.5334848761558533, 0.8456785082817078, 0.7857317328453064, 0.8456786870956421, 0.8456785678863525, 0.8308879137039185, 0.528946042060852, 0.528946042060852, 0.9084247946739197, 0.8456785678863525, 0.8456785678863525, 0.9084249138832092, 0.9084247946739197, 0.6891636848449707, 0.42060041427612305, 0.42060041427612305, 0.42060041427612305, 0.45277222990989685, 0.45277222990989685, 0.9084247946739197, 0.5991615653038025, 0.9084247946739197, 0.8308879137039185, 0.5457431674003601, 0.4188441336154938, 0.4188441336154938, 0.8098347783088684, 0.1619669497013092, 0.1619669497013092, 0.9084247946739197, 0.7857316732406616, 0.9084249138832092, 0.9084247946739197, 0.9462209343910217, 0.5058184266090393, 0.16860614717006683, 0.16860614717006683, 0.08430307358503342, 0.9462210536003113, 0.9462210536003113, 0.5991615653038025, 0.8456785678863525, 0.3352411389350891, 0.3352411389350891, 0.3352411389350891, 0.9084249138832092, 0.9468640089035034, 0.4023689925670624, 0.4023689925670624, 0.4023689925670624, 0.9562946557998657, 0.8456785678863525, 0.5334848761558533, 0.9562946557998657, 0.9468638896942139, 0.528946042060852, 0.528946042060852, 0.9084249138832092, 0.6324906349182129, 0.38137245178222656, 0.38137245178222656, 0.9562946557998657, 0.8456785678863525, 0.5070408582687378, 0.5070408582687378, 0.9462210536003113, 0.9562946557998657, 0.5070408582687378, 0.5070408582687378, 0.6891636252403259, 0.9468638896942139, 0.5395587086677551, 0.5395587086677551, 0.8456785678863525, 0.40057459473609924, 0.40057459473609924, 0.40057459473609924, 0.9499997496604919, 0.9468637704849243, 0.5991615653038025, 0.528946042060852, 0.528946042060852, 0.41412353515625, 0.41412353515625, 0.41412353515625, 0.6891636252403259, 0.9084247946739197, 0.6324906349182129, 0.8456785678863525, 0.8456785678863525, 0.8456785678863525, 0.9084249138832092, 0.9468638896942139, 0.48734250664711, 0.243671253323555, 0.243671253323555, 0.8456785082817078, 0.5457430481910706, 0.9468640089035034, 0.5334848761558533, 0.17559362947940826, 0.17559362947940826, 0.17559362947940826, 0.526780903339386, 0.585936427116394, 0.585936427116394, 0.2629503011703491, 0.7888508439064026, 0.25619345903396606, 0.5123869180679321, 0.25619345903396606, 0.8456785678863525, 0.5597609877586365, 0.27988049387931824, 0.8456785678863525, 0.6324906349182129, 0.8456785678863525, 0.9084247946739197, 0.8456785082817078, 0.12136059254407883, 0.8495241403579712, 0.571219265460968, 0.571219265460968, 0.8456785678863525, 0.8308879137039185, 0.8456785678863525, 0.7461587190628052, 0.3730793595314026, 0.9653146862983704, 0.9562947750091553, 0.6324906945228577, 0.9084249138832092, 0.5457429885864258, 0.8456785082817078, 0.9327408671379089, 0.8456785678863525, 0.9562946557998657, 0.9468638896942139, 0.6156527400016785, 0.30782637000083923, 0.9468638896942139, 0.9084249138832092, 0.2677049934864044, 0.2677049934864044, 0.2677049934864044, 0.2677049934864044, 0.2677049934864044, 0.8308879137039185, 0.6415255665779114, 0.2741048336029053, 0.2741048336029053, 0.2741048336029053, 0.9562946557998657, 0.5334848761558533, 0.9468637704849243, 0.9562946557998657, 0.8456785678863525, 0.9084249138832092, 0.8456785678863525, 0.9468640089035034, 0.4169001877307892, 0.4169001877307892, 0.3753454089164734, 0.3753454089164734, 0.7857316732406616, 0.21251901984214783, 0.3541983664035797, 0.07083967328071594, 0.07083967328071594, 0.21251901984214783, 0.8456785678863525, 0.9462209343910217, 0.6909681558609009, 0.2303227335214615, 0.7857316136360168, 0.9084247946739197, 0.9084249138832092, 0.8456785678863525, 0.8456785678863525, 0.9562946557998657, 0.8456785678863525, 0.5457431674003601, 0.8456785082817078, 0.9084249138832092, 0.8456785678863525, 0.9462209343910217, 0.9562946557998657, 0.9084247946739197, 0.9084247946739197, 0.8456785082817078, 0.9468640089035034, 0.8456786870956421, 0.9462209343910217, 0.9462210536003113, 0.8456786870956421, 0.8456786870956421, 0.8456785082817078, 0.6891635656356812, 0.6891636848449707, 0.9468637704849243, 0.8308879137039185, 0.9562946557998657, 0.9462210536003113, 0.5991615653038025, 0.9084247946739197, 0.9084249138832092, 0.5334848761558533, 0.5334848761558533, 0.9562946557998657, 0.9462209343910217, 0.9468640089035034, 0.9653146862983704, 0.5334848165512085, 0.7857316732406616, 0.9462209343910217, 0.9084247946739197, 0.9084247946739197, 0.8456785678863525, 0.6324906349182129, 0.9084249138832092, 0.6891636252403259, 0.25362250208854675, 0.25362250208854675, 0.5072450041770935, 0.7461585402488708, 0.3730792701244354, 0.9562946557998657, 0.9084249138832092, 0.8456785082817078, 0.8125898241996765, 0.1951671987771988, 0.5855016112327576, 0.8308879137039185, 0.5334848165512085, 0.8456785678863525, 0.9084249138832092, 0.8308879137039185, 0.9084249138832092, 0.9084249138832092, 0.6196319460868835, 0.6196319460868835, 0.6891636252403259, 0.5448263883590698, 0.5448263883590698, 0.9562946557998657, 0.30299776792526245, 0.6059955358505249, 0.8456785678863525, 0.5448262691497803, 0.5448262691497803, 0.9468638896942139, 0.4652875065803528, 0.4652875065803528, 0.23410922288894653, 0.23410922288894653, 0.23410922288894653, 0.23410922288894653, 0.8456785678863525, 0.9462209343910217, 0.8456785678863525, 0.8456785082817078, 0.9462209343910217, 0.9462210536003113, 0.8456785678863525, 0.9462210536003113, 0.9084249138832092, 0.5991615653038025, 0.9468638896942139, 0.9462209343910217, 0.8308879137039185, 0.9468637704849243, 0.9468638896942139, 0.4923892319202423, 0.4923892319202423, 0.9468640089035034, 0.8308879137039185, 0.8456785082817078, 0.3093704283237457, 0.3093704283237457, 0.3093704283237457, 0.9462209343910217, 0.3602117896080017, 0.7204235792160034, 0.8456785678863525, 0.9468638896942139, 0.9562946557998657, 0.6415255665779114, 0.5991615653038025, 0.9084249138832092, 0.9084249138832092, 0.9562946557998657, 0.9468638896942139, 0.9462210536003113, 0.9468638896942139, 0.9084249138832092, 0.9562946557998657, 0.5991615653038025, 0.9499996304512024, 0.9562946557998657, 0.805723249912262, 0.8456785678863525, 0.9462210536003113, 0.9462209343910217, 0.9084246754646301, 0.8456785082817078, 0.6731813549995422, 0.06119830161333084, 0.12239660322666168, 0.06119830161333084, 0.06119830161333084, 0.06119830161333084, 0.9084247946739197, 0.4923006296157837, 0.16410021483898163, 0.16410021483898163, 0.16410021483898163, 0.16410021483898163, 0.22684313356876373, 0.45368626713752747, 0.22684313356876373, 0.9462209343910217, 0.9084249138832092, 0.9084249138832092, 0.8057234287261963, 0.8456785678863525, 0.6324906349182129, 0.5070407390594482, 0.5070407390594482, 0.5991615653038025, 0.9462209343910217, 0.9084246754646301, 0.8456785678863525, 0.25911250710487366, 0.5182250142097473, 0.25911250710487366, 0.8456785678863525, 0.5334848761558533, 0.6876342296600342, 0.22921141982078552, 0.27368685603141785, 0.27368685603141785, 0.27368685603141785, 0.27368685603141785, 0.9562946557998657, 0.8456783890724182, 0.8308879137039185, 0.5457429885864258, 0.6415255665779114, 0.9653146862983704, 0.8456785678863525, 0.528946042060852, 0.528946042060852, 0.9462209343910217, 0.9562946557998657, 0.8456785082817078, 0.9084246754646301, 0.8308879137039185, 0.9468638896942139, 0.8308879137039185, 0.8308879137039185, 0.7461586594581604, 0.3730793297290802, 0.8456785082817078, 0.5334848165512085, 0.8456785678863525, 0.4093952178955078, 0.4093952178955078, 0.7618206739425659, 0.38091033697128296, 0.8456785082817078, 0.9468638896942139, 0.9468638896942139, 0.8456785082817078, 0.9562946557998657, 0.8456785678863525, 0.8456786870956421, 0.5070408582687378, 0.5070408582687378, 0.8456786870956421, 0.9084247946739197, 0.9562946557998657, 0.9462209343910217, 0.9562946557998657, 0.9084247946739197, 0.9562946557998657, 0.9084247946739197, 0.8456785678863525, 0.893979549407959, 0.9084246754646301, 0.8456785678863525, 0.6324906349182129, 0.528946042060852, 0.528946042060852, 0.5991615653038025, 0.6324905753135681, 0.9084247946739197, 0.9084247946739197, 0.9562946557998657, 0.23927728831768036, 0.7178318500518799, 0.9084247946739197, 0.9084249138832092, 0.37990012764930725, 0.3256286680698395, 0.10854288935661316, 0.10854288935661316, 0.05427144467830658, 0.9084249138832092, 0.5457430481910706, 0.9562946557998657, 0.8456785678863525, 0.8456785678863525, 0.8008351922035217, 0.20020879805088043, 0.8456785082817078, 0.9084249138832092, 0.9462210536003113, 0.5415416359901428, 0.5415416359901428, 0.8456785678863525, 0.9653146862983704, 0.8456785678863525, 0.9084247946739197, 0.9084249138832092, 0.5334848165512085, 0.9468637704849243, 0.9084246754646301, 0.9462210536003113, 0.9084247946739197, 0.6324906349182129, 0.46770238876342773, 0.15590080618858337, 0.07795040309429169, 0.07795040309429169, 0.15590080618858337, 0.9462209343910217, 0.9462210536003113, 0.31896278262138367, 0.31896278262138367, 0.31896278262138367, 0.6047217845916748, 0.3023608922958374, 0.3023608922958374, 0.5070407390594482, 0.5070407390594482, 0.7737118601799011, 0.8456785678863525, 0.9468638896942139, 0.3274998366832733, 0.3274998366832733, 0.3274998366832733, 0.3274998366832733, 0.8308879137039185, 0.9084249138832092, 0.9462209343910217, 0.5289462208747864, 0.5289462208747864, 0.9462210536003113, 0.6327840685844421, 0.31639203429222107, 0.9468640089035034, 0.8456785678863525, 0.8456785082817078, 0.9084249138832092, 0.8925130367279053, 0.8456785678863525, 0.3091408312320709, 0.6182816624641418, 0.9084249138832092, 0.9462209343910217, 0.9084247946739197, 0.8456785082817078, 0.8456786870956421, 0.5991616249084473, 0.9084247946739197, 0.5825883746147156, 0.2912941873073578, 0.2912941873073578, 0.8308879137039185, 0.8456786870956421, 0.4417555332183838, 0.4417555332183838, 0.4417555332183838, 0.5457430481910706], \"Term\": [\"\\r\\n\", \"\\r\\n\", \"\\r\\n\", \"\\r\\n\", \"\\r\\n\", \"\\r\\n\", \"...\", \"1.779\", \"1.800\", \"1.850\", \"1.869\", \"1.875\", \"1.900\", \"1.950\", \"12\", \"137\", \"15\", \"2.000\", \"2.020\", \"2.056\", \"2.146\", \"2.150\", \"2.300\", \"2.450\", \"2017\", \"4,6\", \"50\", \"75\", \"abandonar\", \"abandonar\", \"acabar\", \"acabar\", \"aceitar\", \"acercar\", \"activar\", \"acudir\", \"adem\\u00e1s\", \"adem\\u00e1s\", \"adem\\u00e1s\", \"adolescente\", \"ahora\", \"ah\\u00ed\", \"alcantarillar\", \"alguno\", \"all\\u00ed\", \"alma\", \"almuradiel\", \"altura\", \"ampliar\", \"anterior\", \"anterior\", \"antonio\", \"apple\", \"apps\", \"asir\", \"asir\", \"asir\", \"asociaci\\u00f3n\", \"asombrar\", \"aspiraci\\u00f3n\", \"aumentar\", \"autonom\\u00eda\", \"ayuntamiento\", \"az\", \"a\\u00f1o\", \"a\\u00f1o\", \"a\\u00f1o\", \"a\\u00f1o\", \"bajar\", \"bajar\", \"barrita\", \"bas\\u00edlico\", \"belga\", \"bello\", \"blanco\", \"borbones\", \"calafat\", \"calle\", \"cambiar\", \"camino\", \"capacidad\", \"capacidad\", \"capaz\", \"castellano\", \"casualidad\", \"cautividad\", \"celebraci\\u00f3n\", \"central\", \"centrar\", \"centrar\", \"centrar\", \"cerrar\", \"cerrar\", \"certamen\", \"chico\", \"ciencia\", \"cierto\", \"cintar\", \"citar\", \"citar\", \"ciudad\", \"ciudad\", \"ciudad\", \"clasificaci\\u00f3n\", \"club\", \"colaboraci\\u00f3n\", \"colegiar\", \"colocar\", \"comer\", \"comer\", \"comer\", \"comer\", \"comercial\", \"comisi\\u00f3n\", \"competici\\u00f3n\", \"completamente\", \"conseguir\", \"conseguir\", \"conseguir\", \"constatar\", \"consumir\", \"contar\", \"contar\", \"contar\", \"contexto\", \"contradecir\", \"conversaci\\u00f3n\", \"cotizaci\\u00f3n\", \"cotorro\", \"crear\", \"crear\", \"cr\\u00edtico\", \"cuadrar\", \"cualquiera\", \"cualquiera\", \"dar\", \"decir\", \"dejar\", \"dejar\", \"delimitar\", \"demandar\", \"dentro\", \"dentro\", \"desarrollador\", \"descargar\", \"describir\", \"describir\", \"deshabitar\", \"despu\\u00e9s\", \"despu\\u00e9s\", \"despu\\u00e9s\", \"determinar\", \"dieta\", \"dise\\u00f1ar\", \"disparar\", \"disparar\", \"do\", \"do\", \"do\", \"d\\u00e1til\", \"edici\\u00f3n\", \"edificable\", \"edificaci\\u00f3n\", \"edificar\", \"edificio\", \"educativo\", \"ejemplo\", \"empezar\", \"empezar\", \"empezar\", \"emprender\", \"encontrar\", \"energ\\u00e9tico\", \"entornar\", \"entrar\", \"entrar\", \"entrar\", \"entrar\", \"espaciar\", \"espaciar\", \"espa\\u00f1a\", \"espa\\u00f1a\", \"especie\", \"especie\", \"especie\", \"especulaci\\u00f3n\", \"esperar\", \"esperar\", \"esplendor\", \"establecer\", \"estancia\", \"estremecer\", \"estrenar\", \"euro\", \"euro\", \"europeo\", \"europeo\", \"exacto\", \"exclusivo\", \"exhibir\", \"extinci\\u00f3n\", \"extinci\\u00f3n\", \"extra\", \"extremadura\", \"familia\", \"felino\", \"felipe\", \"festival\", \"fichaje\", \"fidelidad\", \"fijar\", \"fin\", \"final\", \"final\", \"finalista\", \"finca\", \"formar\", \"formar\", \"formar\", \"formar\", \"formar\", \"frecuentar\", \"frente\", \"fuente\", \"fuente\", \"fuente\", \"fundaci\\u00f3n\", \"futbolista\", \"f\\u00e1cilmente\", \"generalizar\", \"giratorio\", \"girona\", \"grabar\", \"gracia\", \"gran\", \"gran\", \"grande\", \"grande\", \"g\\u00e9nero\", \"haber\", \"haber\", \"haber\", \"haber\", \"haber\", \"habitar\", \"hacendar\", \"hacer\", \"hacer\", \"hazard\", \"haza\\u00f1a\", \"hembra\", \"hombre\", \"hondo\", \"horquilla\", \"hoy\", \"hueco\", \"humano\", \"ib\\u00e9rico\", \"imponente\", \"imponer\", \"indicar\", \"industrial\", \"informar\", \"inmaculado\", \"inmediaci\\u00f3n\", \"inmobiliario\", \"instalaci\\u00f3n\", \"interior\", \"involuntario\", \"in\\u00e9dito\", \"in\\u00fatil\", \"ios\", \"ipad\", \"ir\", \"isla\", \"italiano\", \"janet\", \"jaula\", \"ja\\u00e9n\", \"joven\", \"jugador\", \"juni\", \"junio\", \"junto\", \"laborar\", \"lampante\", \"largar\", \"lavatera\", \"legislatura\", \"liberar\", \"libertar\", \"librea\", \"licenciar\", \"lince\", \"llamar\", \"llegar\", \"llegar\", \"llegar\", \"llevar\", \"llevar\", \"lonja\", \"lynx\", \"l\\u00f3gico\", \"mac\", \"madrid\", \"madrid\", \"madridismo\", \"malva\", \"manera\", \"marchar\", \"margen\", \"marqu\\u00e9s\", \"masivo\", \"mediar\", \"mediar\", \"mejor\", \"mercar\", \"mercar\", \"mesar\", \"metro\", \"metro\", \"met\\u00e1fora\", \"mientras\", \"mientras\", \"mil\", \"mill\\u00f3n\", \"mill\\u00f3n\", \"mismo\", \"mismo\", \"mismo\", \"mismo\", \"modal\", \"modernista\", \"mole\", \"mover\", \"mundo\", \"municipal\", \"m\\u00e1quina\", \"m\\u00e1ximo\", \"nacido\", \"nacional\", \"nadal\", \"ninguno\", \"nitr\\u00f3filo\", \"novedad\", \"nuclear\", \"nuevo\", \"nuevo\", \"nunca\", \"n\\u00famero\", \"obedecer\", \"objetivar\", \"objetivar\", \"objetivar\", \"objetivo\", \"obrar\", \"obrar\", \"oculto\", \"ocurrir\", \"oleoestepa\", \"olivar\", \"olympiad\", \"ong\", \"onu\", \"operaci\\u00f3n\", \"operativo\", \"orden\", \"ordenador\", \"oriental\", \"origen\", \"padua\", \"pagar\", \"pag\\u00e1ndose\", \"palacio\", \"pantalla\", \"paralelo\", \"parcelar\", \"pardinus\", \"parecer\", \"parir\", \"parir\", \"parir\", \"parir\", \"parir\", \"parir\", \"participar\", \"partir\", \"partir\", \"partir\", \"partir\", \"partir\", \"pasar\", \"pasar\", \"pasar\", \"patronato\", \"pa\\u00eds\", \"peligrar\", \"pel\\u00edcula\", \"perfecto\", \"permiso\", \"pesar\", \"pesar\", \"picar\", \"piedra\", \"planeta\", \"plano\", \"plantar\", \"plantar\", \"plantar\", \"plaza\", \"plazo\", \"poder\", \"poder\", \"poner\", \"poner\", \"poner\", \"poner\", \"poolred\", \"portero\", \"potencial\", \"prado\", \"preciar\", \"precio\", \"presentar\", \"pretender\", \"pretender\", \"principal\", \"principalmente\", \"probablemente\", \"problema\", \"problem\\u00e1tico\", \"profesional\", \"provenir\", \"provincia\", \"proyectar\", \"proyectar\", \"puerta\", \"pues\", \"p\\u00f3sters\", \"p\\u00fablico\", \"p\\u00fablico\", \"quedar\", \"quedar\", \"quedo\", \"radiactivo\", \"rafa\", \"rascacielos\", \"recoger\", \"reconstruir\", \"recorrer\", \"reflejo\", \"reflejo\", \"reformar\", \"regional\", \"registrar\", \"relevante\", \"repetir\", \"resolver\", \"respectar\", \"retar\", \"retratar\", \"robot\", \"rob\\u00f3tico\", \"rodear\", \"sagrado\", \"salir\", \"salir\", \"santo\", \"sanz\", \"seguimiento\", \"segundar\", \"seg\\u00fan\", \"semana\", \"semana\", \"seminario\", \"septiembre\", \"ser\", \"ser\", \"ser\", \"ser\", \"ser\", \"serrar\", \"siglo\", \"significativo\", \"sill\\u00f3n\", \"simple\", \"sistema\", \"sistema\", \"sitiar\", \"situaci\\u00f3n\", \"soler\", \"solo\", \"solo\", \"sombrar\", \"subir\", \"sumergirse\", \"surgir\", \"s\\u00e1bado\", \"s\\u00e1nchez\", \"tableta\", \"tal\", \"tasar\", \"tecnolog\\u00eda\", \"templar\", \"tener\", \"tener\", \"tener\", \"tener\", \"tener\", \"teniente\", \"terreno\", \"tiempo\", \"tiempo\", \"tiempo\", \"tipo\", \"tipo\", \"tipo\", \"tomar\", \"tomar\", \"tonelada\", \"tosco\", \"transformar\", \"tras\", \"tras\", \"tras\", \"tras\", \"triloba\", \"t\\u00e9rmino\", \"unir\", \"uni\\u00f3n\", \"uni\\u00f3n\", \"urbanismo\", \"usar\", \"usar\", \"utilizar\", \"vac\\u00edo\", \"varar\", \"varios\", \"veh\\u00edculo\", \"venir\", \"virgen\", \"virgen\", \"visar\", \"visitable\", \"visi\\u00f3n\", \"vivir\", \"wassilys\", \"world\", \"zait\", \"zona\", \"zona\", \"zona\", \"zurich\", \"\\u00e9stey\", \"\\u00faltimo\", \"\\u00faltimo\", \"\\u00faltimo\", \"\\ufeff1\"]}, \"R\": 30, \"lambda.step\": 0.01, \"plot.opts\": {\"xlab\": \"PC1\", \"ylab\": \"PC2\"}, \"topic.order\": [4, 7, 3, 5, 1, 2, 6]};\n",
       "\n",
       "function LDAvis_load_lib(url, callback){\n",
       "  var s = document.createElement('script');\n",
       "  s.src = url;\n",
       "  s.async = true;\n",
       "  s.onreadystatechange = s.onload = callback;\n",
       "  s.onerror = function(){console.warn(\"failed to load library \" + url);};\n",
       "  document.getElementsByTagName(\"head\")[0].appendChild(s);\n",
       "}\n",
       "\n",
       "if(typeof(LDAvis) !== \"undefined\"){\n",
       "   // already loaded: just create the visualization\n",
       "   !function(LDAvis){\n",
       "       new LDAvis(\"#\" + \"ldavis_el1620019041631008561883709483\", ldavis_el1620019041631008561883709483_data);\n",
       "   }(LDAvis);\n",
       "}else if(typeof define === \"function\" && define.amd){\n",
       "   // require.js is available: use it to load d3/LDAvis\n",
       "   require.config({paths: {d3: \"https://cdnjs.cloudflare.com/ajax/libs/d3/3.5.5/d3.min\"}});\n",
       "   require([\"d3\"], function(d3){\n",
       "      window.d3 = d3;\n",
       "      LDAvis_load_lib(\"https://cdn.rawgit.com/bmabey/pyLDAvis/files/ldavis.v1.0.0.js\", function(){\n",
       "        new LDAvis(\"#\" + \"ldavis_el1620019041631008561883709483\", ldavis_el1620019041631008561883709483_data);\n",
       "      });\n",
       "    });\n",
       "}else{\n",
       "    // require.js not available: dynamically load d3 & LDAvis\n",
       "    LDAvis_load_lib(\"https://cdnjs.cloudflare.com/ajax/libs/d3/3.5.5/d3.min.js\", function(){\n",
       "         LDAvis_load_lib(\"https://cdn.rawgit.com/bmabey/pyLDAvis/files/ldavis.v1.0.0.js\", function(){\n",
       "                 new LDAvis(\"#\" + \"ldavis_el1620019041631008561883709483\", ldavis_el1620019041631008561883709483_data);\n",
       "            })\n",
       "         });\n",
       "}\n",
       "</script>"
      ],
      "text/plain": [
       "<IPython.core.display.HTML object>"
      ]
     },
     "execution_count": 84,
     "metadata": {},
     "output_type": "execute_result"
    }
   ],
   "source": [
    "pyLDAvis.display(data)"
   ]
  },
  {
   "cell_type": "code",
   "execution_count": null,
   "metadata": {},
   "outputs": [],
   "source": []
  },
  {
   "cell_type": "code",
   "execution_count": null,
   "metadata": {},
   "outputs": [],
   "source": []
  }
 ],
 "metadata": {
  "kernelspec": {
   "display_name": "Python 3",
   "language": "python",
   "name": "python3"
  },
  "language_info": {
   "codemirror_mode": {
    "name": "ipython",
    "version": 3
   },
   "file_extension": ".py",
   "mimetype": "text/x-python",
   "name": "python",
   "nbconvert_exporter": "python",
   "pygments_lexer": "ipython3",
   "version": "3.6.5"
  },
  "toc": {
   "base_numbering": 1,
   "nav_menu": {},
   "number_sections": true,
   "sideBar": true,
   "skip_h1_title": false,
   "title_cell": "Table of Contents",
   "title_sidebar": "Contents",
   "toc_cell": false,
   "toc_position": {},
   "toc_section_display": true,
   "toc_window_display": false
  }
 },
 "nbformat": 4,
 "nbformat_minor": 2
}
